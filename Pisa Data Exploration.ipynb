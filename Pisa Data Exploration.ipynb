{
 "cells": [
  {
   "cell_type": "markdown",
   "metadata": {},
   "source": [
    "# Pisa Data Exploration\n",
    "## by Samir Attyani\n",
    "\n",
    "## Preliminary Wrangling\n",
    "\n",
    "**PISA program overview**\n",
    "\n",
    "The Programme for International Student Assessment (PISA) is an international assessment of the skills and knowledge of 15-year-old students; in addition, it provides information about a range of factors that contribute to the success of students, schools, and education systems. PISA is a collaborative effort among member countries of the Organisation for Economic Co-operation and Development (OECD).\n",
    "\n",
    "PISA covers three domains — reading, mathematics, and science. Although each assessment includes questions from all three domains, the focus shifts. In 2000, the emphasis was on reading, with mathematics and science as minor domains. In 2003, mathematics was the major domain, and in 2006, it was science. In 2009, the focus was again reading, and in 2012, mathematics. In the assessment of 2015, the focus was science once again. The repetition of the assessments at regular intervals yields timely data that can be compared internationally and over time.\n",
    "\n",
    "As PISA is an international assessment, it measures skills that are generally recognized as key outcomes of the educational process. Rather than testing on facts, the assessment focuses on young people near the end of compulsory schooling and their ability to use their knowledge and skills to meet real-life challenges.\n",
    "\n",
    "**Participation**\n",
    "\n",
    "International participation in PISA has grown steadily — from 32 countries/economies in 2000 to 41 in 2003, 57 in 2006, 65 in 2009, and 65 in 2012. In the latest PISA cycle, in 2015, there were 72 countries/economies participating. Canada has participated in PISA since its inception, through a partnership among CMEC, Employment and Social Development Canada, and Statistics Canada.\n",
    "\n",
    "All 10 provinces have participated in each assessment. Approximately 20,000 Canadian students from about 1,000 schools have taken part in each PISA assessment in either English or French. Schools and the students within schools are selected randomly for participation. This large sample size allows results to be reported for each province, as well as for both the French- and English-language school systems in Nova Scotia, New Brunswick, Quebec, Ontario, Manitoba, Alberta, and British Columbia. Currently, Yukon, Northwest Territories, and Nunavut do not participate in PISA, nor do Indigenous students from band-operated schools.\n",
    "\n",
    "The results are valid only on the pan-Canadian and provincial levels. No results are attributed to individual schools or students. PISA does not assess individual student achievement.\n",
    "\n",
    "**The assessment**\n",
    "\n",
    "In addition to two hours of direct assessment of reading, mathematics, and science, students in Canada complete a background questionnaire about themselves and their homes, about information and communication technology, and about their school experiences, work activities, and relationships with others. School principals complete a separate questionnaire.\n",
    "\n",
    "In order to determine the content of the assessment, experts from OECD Member countries developed definitions for each domain, which guided the preparation of the testing instruments:\n",
    "\n",
    "Reading literacy: The capacity to understand, use, and reflect on written texts in order to achieve one's goals and potential, develop knowledge, and participate in society.\n",
    "Mathematics literacy: The capacity to identify, understand, and engage in mathematics, and make well-founded judgments about the role that mathematics plays in the private, occupational, and social lives of constructive, concerned, and reflective citizens.\n",
    "Scientific literacy: The capacity to use scientific knowledge, identify questions, and draw evidence-based conclusions in order to understand and help make decisions about the natural world and the changes made to it through human activity.\n",
    "\n",
    "One other domain was included in the PISA 2015 cycle, financial literacy, which was administered as an option in some countries, including some Canadian provinces. PISA 2015 was completely computerized.\n",
    "\n",
    "**The benefits of PISA**\n",
    "\n",
    "Canada invests significant public resources in the provision of elementary and secondary education, and Canadians are concerned about the quality of education provided by schools. The skills acquired by the end of secondary school are the essential foundation for further learning and for meeting the social and economic challenges of the future. PISA examines the level of achievement of 15-year-olds, providing an indication of the knowledge and skills they have acquired and their preparedness for continuing their studies or entering the workforce.\n",
    "\n",
    "Results from PISA are valuable to educators, governments, social-policy analysts, and advocacy groups. Comparative information helps in the evaluation of the effectiveness of existing programs and practices, as well as in the understanding of the influences of socioeconomic and other factors on educational success.\n",
    "\n",
    "**PISA results**\n",
    "\n",
    "On an international level, Canada has performed very well in all of the PISA assessments. For example, in the 2018 assessment, Canadian 15-year-olds placed well above the OECD average and were among the top performers in reading. Of the 79 countries and economies participating in the assessment, only three— Beijing, Shanghai, Jiangsu, Zhejiang (B-S-J-Z) (China), Singapore, and Macao (China)—outperformed Canada.\n",
    "\n",
    "source: https://www.cmec.ca/251/Programme_for_International_Student_Assessment_(PISA).html"
   ]
  },
  {
   "cell_type": "code",
   "execution_count": 1,
   "metadata": {},
   "outputs": [],
   "source": [
    "# import all packages and set plots to be embedded inline\n",
    "import numpy as np\n",
    "import pandas as pd\n",
    "import matplotlib.pyplot as plt\n",
    "import seaborn as sb\n",
    "\n",
    "%matplotlib inline"
   ]
  },
  {
   "cell_type": "markdown",
   "metadata": {},
   "source": [
    "> Load in your dataset and describe its properties through the questions below.\n",
    "Try and motivate your exploration goals through this section."
   ]
  },
  {
   "cell_type": "code",
   "execution_count": 2,
   "metadata": {},
   "outputs": [
    {
     "name": "stderr",
     "output_type": "stream",
     "text": [
      "C:\\Users\\saatt\\AppData\\Local\\Continuum\\anaconda3\\lib\\site-packages\\IPython\\core\\interactiveshell.py:3063: DtypeWarning: Columns (15,16,17,21,22,23,24,25,26,30,31,36,37,45,65,123,155,156,157,158,159,160,161,162,163,164,165,166,167,168,169,170,171,284,285,286,287,288,289,290,291,292,293,294,295,296,297,298,299,300,301,302,303,307,308,309,310,311,312,313,314,315,316,317,318,319,320,321,322,323,324,325,326,327,328,329,330,331,332,333,334,335,336,337,338,339,340,341,342,343,344,345,346,347,348,349,350,351,352,353,354,355,356,357,376,377,378,379,380,381,382,383,384,385,386,387,388,389,390,391,392,393,394,395,396,397,398,399,400,401,402,403,475) have mixed types.Specify dtype option on import or set low_memory=False.\n",
      "  interactivity=interactivity, compiler=compiler, result=result)\n"
     ]
    }
   ],
   "source": [
    "# failed to read file as utf-8. changed to ISO-8859-1 instead.\n",
    "df_pisa=pd.read_csv('pisa2012.csv', encoding = \"ISO-8859-1\")"
   ]
  },
  {
   "cell_type": "code",
   "execution_count": 280,
   "metadata": {},
   "outputs": [],
   "source": [
    "# read dataset dictionary\n",
    "df_dict = pd.read_csv('pisadict2012.csv',encoding = \"ISO-8859-1\")"
   ]
  },
  {
   "cell_type": "code",
   "execution_count": 281,
   "metadata": {},
   "outputs": [
    {
     "name": "stdout",
     "output_type": "stream",
     "text": [
      "<class 'pandas.core.frame.DataFrame'>\n",
      "RangeIndex: 485490 entries, 0 to 485489\n",
      "Columns: 636 entries, Unnamed: 0 to VER_STU\n",
      "dtypes: float64(250), int64(18), object(368)\n",
      "memory usage: 2.3+ GB\n"
     ]
    }
   ],
   "source": [
    "df_pisa.info()"
   ]
  },
  {
   "cell_type": "code",
   "execution_count": 283,
   "metadata": {},
   "outputs": [
    {
     "data": {
      "text/html": [
       "<div>\n",
       "<style scoped>\n",
       "    .dataframe tbody tr th:only-of-type {\n",
       "        vertical-align: middle;\n",
       "    }\n",
       "\n",
       "    .dataframe tbody tr th {\n",
       "        vertical-align: top;\n",
       "    }\n",
       "\n",
       "    .dataframe thead th {\n",
       "        text-align: right;\n",
       "    }\n",
       "</style>\n",
       "<table border=\"1\" class=\"dataframe\">\n",
       "  <thead>\n",
       "    <tr style=\"text-align: right;\">\n",
       "      <th></th>\n",
       "      <th>CNT</th>\n",
       "      <th>Country code 3-character</th>\n",
       "    </tr>\n",
       "  </thead>\n",
       "  <tbody>\n",
       "    <tr>\n",
       "      <th>0</th>\n",
       "      <td>SUBNATIO</td>\n",
       "      <td>Adjudicated sub-region code 7-digit code (3-di...</td>\n",
       "    </tr>\n",
       "    <tr>\n",
       "      <th>1</th>\n",
       "      <td>STRATUM</td>\n",
       "      <td>Stratum ID 7-character (cnt + region ID + orig...</td>\n",
       "    </tr>\n",
       "    <tr>\n",
       "      <th>2</th>\n",
       "      <td>OECD</td>\n",
       "      <td>OECD country</td>\n",
       "    </tr>\n",
       "    <tr>\n",
       "      <th>3</th>\n",
       "      <td>NC</td>\n",
       "      <td>National Centre 6-digit Code</td>\n",
       "    </tr>\n",
       "    <tr>\n",
       "      <th>4</th>\n",
       "      <td>SCHOOLID</td>\n",
       "      <td>School ID 7-digit (region ID + stratum ID + 3-...</td>\n",
       "    </tr>\n",
       "  </tbody>\n",
       "</table>\n",
       "</div>"
      ],
      "text/plain": [
       "        CNT                           Country code 3-character\n",
       "0  SUBNATIO  Adjudicated sub-region code 7-digit code (3-di...\n",
       "1   STRATUM  Stratum ID 7-character (cnt + region ID + orig...\n",
       "2      OECD                                       OECD country\n",
       "3        NC                       National Centre 6-digit Code\n",
       "4  SCHOOLID  School ID 7-digit (region ID + stratum ID + 3-..."
      ]
     },
     "execution_count": 283,
     "metadata": {},
     "output_type": "execute_result"
    }
   ],
   "source": [
    "df_dict.head()"
   ]
  },
  {
   "cell_type": "code",
   "execution_count": 6,
   "metadata": {},
   "outputs": [
    {
     "data": {
      "text/plain": [
       "((485490, 636), (635, 3))"
      ]
     },
     "execution_count": 6,
     "metadata": {},
     "output_type": "execute_result"
    }
   ],
   "source": [
    "df_pisa.shape, df_dict.shape"
   ]
  },
  {
   "cell_type": "code",
   "execution_count": 7,
   "metadata": {},
   "outputs": [
    {
     "data": {
      "text/plain": [
       "Female    245064\n",
       "Male      240426\n",
       "Name: ST04Q01, dtype: int64"
      ]
     },
     "execution_count": 7,
     "metadata": {},
     "output_type": "execute_result"
    }
   ],
   "source": [
    "df_pisa['ST04Q01'].value_counts()"
   ]
  },
  {
   "cell_type": "code",
   "execution_count": 8,
   "metadata": {},
   "outputs": [
    {
     "data": {
      "text/plain": [
       "15.58    42762\n",
       "15.67    42353\n",
       "15.75    41664\n",
       "15.83    41402\n",
       "15.92    41084\n",
       "16.00    41049\n",
       "15.42    40437\n",
       "15.50    40291\n",
       "16.08    39313\n",
       "16.17    38356\n",
       "15.33    28354\n",
       "16.25    26139\n",
       "15.25    11986\n",
       "16.33    10183\n",
       "15.17        1\n",
       "Name: AGE, dtype: int64"
      ]
     },
     "execution_count": 8,
     "metadata": {},
     "output_type": "execute_result"
    }
   ],
   "source": [
    "# Age counts\n",
    "df_pisa['AGE'].value_counts()"
   ]
  },
  {
   "cell_type": "code",
   "execution_count": 9,
   "metadata": {},
   "outputs": [
    {
     "data": {
      "text/plain": [
       "Mexico                      33806\n",
       "Italy                       31073\n",
       "Spain                       25313\n",
       "Canada                      21544\n",
       "Brazil                      19204\n",
       "                            ...  \n",
       "Florida (USA)                1896\n",
       "Perm(Russian Federation)     1761\n",
       "Massachusetts (USA)          1723\n",
       "Connecticut (USA)            1697\n",
       "Liechtenstein                 293\n",
       "Name: CNT, Length: 68, dtype: int64"
      ]
     },
     "execution_count": 9,
     "metadata": {},
     "output_type": "execute_result"
    }
   ],
   "source": [
    "df_pisa['CNT'].value_counts()"
   ]
  },
  {
   "cell_type": "code",
   "execution_count": 10,
   "metadata": {},
   "outputs": [
    {
     "data": {
      "text/plain": [
       "68"
      ]
     },
     "execution_count": 10,
     "metadata": {},
     "output_type": "execute_result"
    }
   ],
   "source": [
    "# Unique countries\n",
    "df_pisa['CNT'].nunique()"
   ]
  },
  {
   "cell_type": "code",
   "execution_count": 11,
   "metadata": {},
   "outputs": [
    {
     "data": {
      "text/plain": [
       "Unnamed: 0      int64\n",
       "CNT            object\n",
       "SUBNATIO        int64\n",
       "STRATUM        object\n",
       "OECD           object\n",
       "               ...   \n",
       "W_FSTR80      float64\n",
       "WVARSTRR        int64\n",
       "VAR_UNIT        int64\n",
       "SENWGT_STU    float64\n",
       "VER_STU        object\n",
       "Length: 636, dtype: object"
      ]
     },
     "execution_count": 11,
     "metadata": {},
     "output_type": "execute_result"
    }
   ],
   "source": [
    "df_pisa.dtypes"
   ]
  },
  {
   "cell_type": "code",
   "execution_count": 12,
   "metadata": {},
   "outputs": [
    {
     "data": {
      "text/html": [
       "<div>\n",
       "<style scoped>\n",
       "    .dataframe tbody tr th:only-of-type {\n",
       "        vertical-align: middle;\n",
       "    }\n",
       "\n",
       "    .dataframe tbody tr th {\n",
       "        vertical-align: top;\n",
       "    }\n",
       "\n",
       "    .dataframe thead th {\n",
       "        text-align: right;\n",
       "    }\n",
       "</style>\n",
       "<table border=\"1\" class=\"dataframe\">\n",
       "  <thead>\n",
       "    <tr style=\"text-align: right;\">\n",
       "      <th></th>\n",
       "      <th>Unnamed: 0</th>\n",
       "      <th>CNT</th>\n",
       "      <th>SUBNATIO</th>\n",
       "      <th>STRATUM</th>\n",
       "      <th>OECD</th>\n",
       "      <th>NC</th>\n",
       "      <th>SCHOOLID</th>\n",
       "      <th>STIDSTD</th>\n",
       "      <th>ST01Q01</th>\n",
       "      <th>ST02Q01</th>\n",
       "      <th>...</th>\n",
       "      <th>W_FSTR75</th>\n",
       "      <th>W_FSTR76</th>\n",
       "      <th>W_FSTR77</th>\n",
       "      <th>W_FSTR78</th>\n",
       "      <th>W_FSTR79</th>\n",
       "      <th>W_FSTR80</th>\n",
       "      <th>WVARSTRR</th>\n",
       "      <th>VAR_UNIT</th>\n",
       "      <th>SENWGT_STU</th>\n",
       "      <th>VER_STU</th>\n",
       "    </tr>\n",
       "  </thead>\n",
       "  <tbody>\n",
       "    <tr>\n",
       "      <th>0</th>\n",
       "      <td>1</td>\n",
       "      <td>Albania</td>\n",
       "      <td>80000</td>\n",
       "      <td>ALB0006</td>\n",
       "      <td>Non-OECD</td>\n",
       "      <td>Albania</td>\n",
       "      <td>1</td>\n",
       "      <td>1</td>\n",
       "      <td>10</td>\n",
       "      <td>1.0</td>\n",
       "      <td>...</td>\n",
       "      <td>13.7954</td>\n",
       "      <td>13.9235</td>\n",
       "      <td>13.1249</td>\n",
       "      <td>13.1249</td>\n",
       "      <td>4.3389</td>\n",
       "      <td>13.0829</td>\n",
       "      <td>19</td>\n",
       "      <td>1</td>\n",
       "      <td>0.2098</td>\n",
       "      <td>22NOV13</td>\n",
       "    </tr>\n",
       "    <tr>\n",
       "      <th>1</th>\n",
       "      <td>2</td>\n",
       "      <td>Albania</td>\n",
       "      <td>80000</td>\n",
       "      <td>ALB0006</td>\n",
       "      <td>Non-OECD</td>\n",
       "      <td>Albania</td>\n",
       "      <td>1</td>\n",
       "      <td>2</td>\n",
       "      <td>10</td>\n",
       "      <td>1.0</td>\n",
       "      <td>...</td>\n",
       "      <td>13.7954</td>\n",
       "      <td>13.9235</td>\n",
       "      <td>13.1249</td>\n",
       "      <td>13.1249</td>\n",
       "      <td>4.3389</td>\n",
       "      <td>13.0829</td>\n",
       "      <td>19</td>\n",
       "      <td>1</td>\n",
       "      <td>0.2098</td>\n",
       "      <td>22NOV13</td>\n",
       "    </tr>\n",
       "    <tr>\n",
       "      <th>2</th>\n",
       "      <td>3</td>\n",
       "      <td>Albania</td>\n",
       "      <td>80000</td>\n",
       "      <td>ALB0006</td>\n",
       "      <td>Non-OECD</td>\n",
       "      <td>Albania</td>\n",
       "      <td>1</td>\n",
       "      <td>3</td>\n",
       "      <td>9</td>\n",
       "      <td>1.0</td>\n",
       "      <td>...</td>\n",
       "      <td>12.7307</td>\n",
       "      <td>12.7307</td>\n",
       "      <td>12.7307</td>\n",
       "      <td>12.7307</td>\n",
       "      <td>4.2436</td>\n",
       "      <td>12.7307</td>\n",
       "      <td>19</td>\n",
       "      <td>1</td>\n",
       "      <td>0.1999</td>\n",
       "      <td>22NOV13</td>\n",
       "    </tr>\n",
       "    <tr>\n",
       "      <th>3</th>\n",
       "      <td>4</td>\n",
       "      <td>Albania</td>\n",
       "      <td>80000</td>\n",
       "      <td>ALB0006</td>\n",
       "      <td>Non-OECD</td>\n",
       "      <td>Albania</td>\n",
       "      <td>1</td>\n",
       "      <td>4</td>\n",
       "      <td>9</td>\n",
       "      <td>1.0</td>\n",
       "      <td>...</td>\n",
       "      <td>12.7307</td>\n",
       "      <td>12.7307</td>\n",
       "      <td>12.7307</td>\n",
       "      <td>12.7307</td>\n",
       "      <td>4.2436</td>\n",
       "      <td>12.7307</td>\n",
       "      <td>19</td>\n",
       "      <td>1</td>\n",
       "      <td>0.1999</td>\n",
       "      <td>22NOV13</td>\n",
       "    </tr>\n",
       "    <tr>\n",
       "      <th>4</th>\n",
       "      <td>5</td>\n",
       "      <td>Albania</td>\n",
       "      <td>80000</td>\n",
       "      <td>ALB0006</td>\n",
       "      <td>Non-OECD</td>\n",
       "      <td>Albania</td>\n",
       "      <td>1</td>\n",
       "      <td>5</td>\n",
       "      <td>9</td>\n",
       "      <td>1.0</td>\n",
       "      <td>...</td>\n",
       "      <td>12.7307</td>\n",
       "      <td>12.7307</td>\n",
       "      <td>12.7307</td>\n",
       "      <td>12.7307</td>\n",
       "      <td>4.2436</td>\n",
       "      <td>12.7307</td>\n",
       "      <td>19</td>\n",
       "      <td>1</td>\n",
       "      <td>0.1999</td>\n",
       "      <td>22NOV13</td>\n",
       "    </tr>\n",
       "  </tbody>\n",
       "</table>\n",
       "<p>5 rows × 636 columns</p>\n",
       "</div>"
      ],
      "text/plain": [
       "   Unnamed: 0      CNT  SUBNATIO  STRATUM      OECD       NC  SCHOOLID  \\\n",
       "0           1  Albania     80000  ALB0006  Non-OECD  Albania         1   \n",
       "1           2  Albania     80000  ALB0006  Non-OECD  Albania         1   \n",
       "2           3  Albania     80000  ALB0006  Non-OECD  Albania         1   \n",
       "3           4  Albania     80000  ALB0006  Non-OECD  Albania         1   \n",
       "4           5  Albania     80000  ALB0006  Non-OECD  Albania         1   \n",
       "\n",
       "   STIDSTD  ST01Q01  ST02Q01  ...  W_FSTR75  W_FSTR76 W_FSTR77 W_FSTR78  \\\n",
       "0        1       10      1.0  ...   13.7954   13.9235  13.1249  13.1249   \n",
       "1        2       10      1.0  ...   13.7954   13.9235  13.1249  13.1249   \n",
       "2        3        9      1.0  ...   12.7307   12.7307  12.7307  12.7307   \n",
       "3        4        9      1.0  ...   12.7307   12.7307  12.7307  12.7307   \n",
       "4        5        9      1.0  ...   12.7307   12.7307  12.7307  12.7307   \n",
       "\n",
       "   W_FSTR79 W_FSTR80 WVARSTRR VAR_UNIT SENWGT_STU  VER_STU  \n",
       "0    4.3389  13.0829       19        1     0.2098  22NOV13  \n",
       "1    4.3389  13.0829       19        1     0.2098  22NOV13  \n",
       "2    4.2436  12.7307       19        1     0.1999  22NOV13  \n",
       "3    4.2436  12.7307       19        1     0.1999  22NOV13  \n",
       "4    4.2436  12.7307       19        1     0.1999  22NOV13  \n",
       "\n",
       "[5 rows x 636 columns]"
      ]
     },
     "execution_count": 12,
     "metadata": {},
     "output_type": "execute_result"
    }
   ],
   "source": [
    "df_pisa.head()"
   ]
  },
  {
   "cell_type": "code",
   "execution_count": 14,
   "metadata": {},
   "outputs": [
    {
     "data": {
      "text/plain": [
       "Mexico                       33806\n",
       "Italy                        31073\n",
       "Spain                        25313\n",
       "Canada                       21544\n",
       "Brazil                       19204\n",
       "                             ...  \n",
       "New Zealand                   4291\n",
       "Iceland                       3508\n",
       "United Kingdom (Scotland)     2945\n",
       "Perm (Russian Federation)     1761\n",
       "Liechtenstein                  293\n",
       "Name: NC, Length: 66, dtype: int64"
      ]
     },
     "execution_count": 14,
     "metadata": {},
     "output_type": "execute_result"
    }
   ],
   "source": [
    "df_pisa.NC.value_counts()"
   ]
  },
  {
   "cell_type": "code",
   "execution_count": 15,
   "metadata": {},
   "outputs": [
    {
     "name": "stdout",
     "output_type": "stream",
     "text": [
      "<class 'pandas.core.frame.DataFrame'>\n",
      "RangeIndex: 485490 entries, 0 to 485489\n",
      "Data columns (total 636 columns):\n",
      " #   Column       Non-Null Count   Dtype  \n",
      "---  ------       --------------   -----  \n",
      " 0   Unnamed: 0   485490 non-null  int64  \n",
      " 1   CNT          485490 non-null  object \n",
      " 2   SUBNATIO     485490 non-null  int64  \n",
      " 3   STRATUM      485490 non-null  object \n",
      " 4   OECD         485490 non-null  object \n",
      " 5   NC           485490 non-null  object \n",
      " 6   SCHOOLID     485490 non-null  int64  \n",
      " 7   STIDSTD      485490 non-null  int64  \n",
      " 8   ST01Q01      485490 non-null  int64  \n",
      " 9   ST02Q01      485438 non-null  float64\n",
      " 10  ST03Q01      485490 non-null  int64  \n",
      " 11  ST03Q02      485490 non-null  int64  \n",
      " 12  ST04Q01      485490 non-null  object \n",
      " 13  ST05Q01      476166 non-null  object \n",
      " 14  ST06Q01      457994 non-null  float64\n",
      " 15  ST07Q01      436690 non-null  object \n",
      " 16  ST07Q02      431278 non-null  object \n",
      " 17  ST07Q03      305687 non-null  object \n",
      " 18  ST08Q01      479143 non-null  object \n",
      " 19  ST09Q01      479131 non-null  object \n",
      " 20  ST115Q01     479269 non-null  float64\n",
      " 21  ST11Q01      460559 non-null  object \n",
      " 22  ST11Q02      441036 non-null  object \n",
      " 23  ST11Q03      400076 non-null  object \n",
      " 24  ST11Q04      390768 non-null  object \n",
      " 25  ST11Q05      348180 non-null  object \n",
      " 26  ST11Q06      337638 non-null  object \n",
      " 27  ST13Q01      457979 non-null  object \n",
      " 28  ST14Q01      390481 non-null  object \n",
      " 29  ST14Q02      407641 non-null  object \n",
      " 30  ST14Q03      382441 non-null  object \n",
      " 31  ST14Q04      304215 non-null  object \n",
      " 32  ST15Q01      467751 non-null  object \n",
      " 33  ST17Q01      443261 non-null  object \n",
      " 34  ST18Q01      371415 non-null  object \n",
      " 35  ST18Q02      387796 non-null  object \n",
      " 36  ST18Q03      362834 non-null  object \n",
      " 37  ST18Q04      292093 non-null  object \n",
      " 38  ST19Q01      451410 non-null  object \n",
      " 39  ST20Q01      476363 non-null  object \n",
      " 40  ST20Q02      472518 non-null  object \n",
      " 41  ST20Q03      469141 non-null  object \n",
      " 42  ST21Q01      32728 non-null   float64\n",
      " 43  ST25Q01      465496 non-null  object \n",
      " 44  ST26Q01      473079 non-null  object \n",
      " 45  ST26Q02      469693 non-null  object \n",
      " 46  ST26Q03      472020 non-null  object \n",
      " 47  ST26Q04      473877 non-null  object \n",
      " 48  ST26Q05      463178 non-null  object \n",
      " 49  ST26Q06      473182 non-null  object \n",
      " 50  ST26Q07      465860 non-null  object \n",
      " 51  ST26Q08      467094 non-null  object \n",
      " 52  ST26Q09      467249 non-null  object \n",
      " 53  ST26Q10      471242 non-null  object \n",
      " 54  ST26Q11      463566 non-null  object \n",
      " 55  ST26Q12      474039 non-null  object \n",
      " 56  ST26Q13      469115 non-null  object \n",
      " 57  ST26Q14      474076 non-null  object \n",
      " 58  ST26Q15      485490 non-null  int64  \n",
      " 59  ST26Q16      485490 non-null  int64  \n",
      " 60  ST26Q17      485490 non-null  int64  \n",
      " 61  ST27Q01      477079 non-null  object \n",
      " 62  ST27Q02      476548 non-null  object \n",
      " 63  ST27Q03      473459 non-null  object \n",
      " 64  ST27Q04      472499 non-null  object \n",
      " 65  ST27Q05      469643 non-null  object \n",
      " 66  ST28Q01      473765 non-null  object \n",
      " 67  ST29Q01      315911 non-null  object \n",
      " 68  ST29Q02      315473 non-null  object \n",
      " 69  ST29Q03      314928 non-null  object \n",
      " 70  ST29Q04      314737 non-null  object \n",
      " 71  ST29Q05      315231 non-null  object \n",
      " 72  ST29Q06      314746 non-null  object \n",
      " 73  ST29Q07      315066 non-null  object \n",
      " 74  ST29Q08      315232 non-null  object \n",
      " 75  ST35Q01      315860 non-null  object \n",
      " 76  ST35Q02      315315 non-null  object \n",
      " 77  ST35Q03      314873 non-null  object \n",
      " 78  ST35Q04      315160 non-null  object \n",
      " 79  ST35Q05      314843 non-null  object \n",
      " 80  ST35Q06      313389 non-null  object \n",
      " 81  ST37Q01      314644 non-null  object \n",
      " 82  ST37Q02      314624 non-null  object \n",
      " 83  ST37Q03      313883 non-null  object \n",
      " 84  ST37Q04      313416 non-null  object \n",
      " 85  ST37Q05      313970 non-null  object \n",
      " 86  ST37Q06      313678 non-null  object \n",
      " 87  ST37Q07      314070 non-null  object \n",
      " 88  ST37Q08      314112 non-null  object \n",
      " 89  ST42Q01      313855 non-null  object \n",
      " 90  ST42Q02      313502 non-null  object \n",
      " 91  ST42Q03      312176 non-null  object \n",
      " 92  ST42Q04      311980 non-null  object \n",
      " 93  ST42Q05      312624 non-null  object \n",
      " 94  ST42Q06      312327 non-null  object \n",
      " 95  ST42Q07      312583 non-null  object \n",
      " 96  ST42Q08      312456 non-null  object \n",
      " 97  ST42Q09      312223 non-null  object \n",
      " 98  ST42Q10      312853 non-null  object \n",
      " 99  ST43Q01      314971 non-null  object \n",
      " 100 ST43Q02      314182 non-null  object \n",
      " 101 ST43Q03      313494 non-null  object \n",
      " 102 ST43Q04      313420 non-null  object \n",
      " 103 ST43Q05      313228 non-null  object \n",
      " 104 ST43Q06      313470 non-null  object \n",
      " 105 ST44Q01      314119 non-null  object \n",
      " 106 ST44Q03      313405 non-null  object \n",
      " 107 ST44Q04      312645 non-null  object \n",
      " 108 ST44Q05      312996 non-null  object \n",
      " 109 ST44Q07      312970 non-null  object \n",
      " 110 ST44Q08      313374 non-null  object \n",
      " 111 ST46Q01      313898 non-null  object \n",
      " 112 ST46Q02      313567 non-null  object \n",
      " 113 ST46Q03      312994 non-null  object \n",
      " 114 ST46Q04      312997 non-null  object \n",
      " 115 ST46Q05      313043 non-null  object \n",
      " 116 ST46Q06      312900 non-null  object \n",
      " 117 ST46Q07      312854 non-null  object \n",
      " 118 ST46Q08      312989 non-null  object \n",
      " 119 ST46Q09      313040 non-null  object \n",
      " 120 ST48Q01      294410 non-null  object \n",
      " 121 ST48Q02      289827 non-null  object \n",
      " 122 ST48Q03      298479 non-null  object \n",
      " 123 ST48Q04      267716 non-null  object \n",
      " 124 ST48Q05      287992 non-null  object \n",
      " 125 ST49Q01      313495 non-null  object \n",
      " 126 ST49Q02      313025 non-null  object \n",
      " 127 ST49Q03      312168 non-null  object \n",
      " 128 ST49Q04      312378 non-null  object \n",
      " 129 ST49Q05      312582 non-null  object \n",
      " 130 ST49Q06      312571 non-null  object \n",
      " 131 ST49Q07      312425 non-null  object \n",
      " 132 ST49Q09      312752 non-null  object \n",
      " 133 ST53Q01      309947 non-null  object \n",
      " 134 ST53Q02      309880 non-null  object \n",
      " 135 ST53Q03      309272 non-null  object \n",
      " 136 ST53Q04      308931 non-null  object \n",
      " 137 ST55Q01      307761 non-null  object \n",
      " 138 ST55Q02      308171 non-null  object \n",
      " 139 ST55Q03      306090 non-null  object \n",
      " 140 ST55Q04      304130 non-null  object \n",
      " 141 ST57Q01      301367 non-null  float64\n",
      " 142 ST57Q02      269808 non-null  float64\n",
      " 143 ST57Q03      283813 non-null  float64\n",
      " 144 ST57Q04      279657 non-null  float64\n",
      " 145 ST57Q05      289502 non-null  float64\n",
      " 146 ST57Q06      289428 non-null  float64\n",
      " 147 ST61Q01      312799 non-null  object \n",
      " 148 ST61Q02      312284 non-null  object \n",
      " 149 ST61Q03      311616 non-null  object \n",
      " 150 ST61Q04      310304 non-null  object \n",
      " 151 ST61Q05      311698 non-null  object \n",
      " 152 ST61Q06      311376 non-null  object \n",
      " 153 ST61Q07      311797 non-null  object \n",
      " 154 ST61Q08      311498 non-null  object \n",
      " 155 ST61Q09      309084 non-null  object \n",
      " 156 ST62Q01      306484 non-null  object \n",
      " 157 ST62Q02      307481 non-null  object \n",
      " 158 ST62Q03      306602 non-null  object \n",
      " 159 ST62Q04      306319 non-null  object \n",
      " 160 ST62Q06      306733 non-null  object \n",
      " 161 ST62Q07      306627 non-null  object \n",
      " 162 ST62Q08      306640 non-null  object \n",
      " 163 ST62Q09      307479 non-null  object \n",
      " 164 ST62Q10      306316 non-null  object \n",
      " 165 ST62Q11      305550 non-null  object \n",
      " 166 ST62Q12      306327 non-null  object \n",
      " 167 ST62Q13      306158 non-null  object \n",
      " 168 ST62Q15      306297 non-null  object \n",
      " 169 ST62Q16      306406 non-null  object \n",
      " 170 ST62Q17      306784 non-null  object \n",
      " 171 ST62Q19      307729 non-null  object \n",
      " 172 ST69Q01      299618 non-null  float64\n",
      " 173 ST69Q02      298601 non-null  float64\n",
      " 174 ST69Q03      291943 non-null  float64\n",
      " 175 ST70Q01      296878 non-null  float64\n",
      " 176 ST70Q02      298339 non-null  float64\n",
      " 177 ST70Q03      289068 non-null  float64\n",
      " 178 ST71Q01      255665 non-null  float64\n",
      " 179 ST72Q01      294163 non-null  float64\n",
      " 180 ST73Q01      309601 non-null  object \n",
      " 181 ST73Q02      308965 non-null  object \n",
      " 182 ST74Q01      309845 non-null  object \n",
      " 183 ST74Q02      309303 non-null  object \n",
      " 184 ST75Q01      309289 non-null  object \n",
      " 185 ST75Q02      308663 non-null  object \n",
      " 186 ST76Q01      308980 non-null  object \n",
      " 187 ST76Q02      308489 non-null  object \n",
      " 188 ST77Q01      315248 non-null  object \n",
      " 189 ST77Q02      314913 non-null  object \n",
      " 190 ST77Q04      314368 non-null  object \n",
      " 191 ST77Q05      314827 non-null  object \n",
      " 192 ST77Q06      314807 non-null  object \n",
      " 193 ST79Q01      314909 non-null  object \n",
      " 194 ST79Q02      314328 non-null  object \n",
      " 195 ST79Q03      313955 non-null  object \n",
      " 196 ST79Q04      313906 non-null  object \n",
      " 197 ST79Q05      313637 non-null  object \n",
      " 198 ST79Q06      313875 non-null  object \n",
      " 199 ST79Q07      314093 non-null  object \n",
      " 200 ST79Q08      314201 non-null  object \n",
      " 201 ST79Q10      313979 non-null  object \n",
      " 202 ST79Q11      313782 non-null  object \n",
      " 203 ST79Q12      313472 non-null  object \n",
      " 204 ST79Q15      313846 non-null  object \n",
      " 205 ST79Q17      314039 non-null  object \n",
      " 206 ST80Q01      314171 non-null  object \n",
      " 207 ST80Q04      313521 non-null  object \n",
      " 208 ST80Q05      312593 non-null  object \n",
      " 209 ST80Q06      312490 non-null  object \n",
      " 210 ST80Q07      312521 non-null  object \n",
      " 211 ST80Q08      312591 non-null  object \n",
      " 212 ST80Q09      311814 non-null  object \n",
      " 213 ST80Q10      312305 non-null  object \n",
      " 214 ST80Q11      312865 non-null  object \n",
      " 215 ST81Q01      313982 non-null  object \n",
      " 216 ST81Q02      313546 non-null  object \n",
      " 217 ST81Q03      312716 non-null  object \n",
      " 218 ST81Q04      312994 non-null  object \n",
      " 219 ST81Q05      313436 non-null  object \n",
      " 220 ST82Q01      311690 non-null  object \n",
      " 221 ST82Q02      311243 non-null  object \n",
      " 222 ST82Q03      310986 non-null  object \n",
      " 223 ST83Q01      313505 non-null  object \n",
      " 224 ST83Q02      313112 non-null  object \n",
      " 225 ST83Q03      312943 non-null  object \n",
      " 226 ST83Q04      312945 non-null  object \n",
      " 227 ST84Q01      310981 non-null  object \n",
      " 228 ST84Q02      311399 non-null  object \n",
      " 229 ST84Q03      310713 non-null  object \n",
      " 230 ST85Q01      312474 non-null  object \n",
      " 231 ST85Q02      312120 non-null  object \n",
      " 232 ST85Q03      311832 non-null  object \n",
      " 233 ST85Q04      311727 non-null  object \n",
      " 234 ST86Q01      313223 non-null  object \n",
      " 235 ST86Q02      312591 non-null  object \n",
      " 236 ST86Q03      312188 non-null  object \n",
      " 237 ST86Q04      312294 non-null  object \n",
      " 238 ST86Q05      311904 non-null  object \n",
      " 239 ST87Q01      311776 non-null  object \n",
      " 240 ST87Q02      312138 non-null  object \n",
      " 241 ST87Q03      310821 non-null  object \n",
      " 242 ST87Q04      310998 non-null  object \n",
      " 243 ST87Q05      310587 non-null  object \n",
      " 244 ST87Q06      310952 non-null  object \n",
      " 245 ST87Q07      310281 non-null  object \n",
      " 246 ST87Q08      310735 non-null  object \n",
      " 247 ST87Q09      311101 non-null  object \n",
      " 248 ST88Q01      311250 non-null  object \n",
      " 249 ST88Q02      310964 non-null  object \n",
      " 250 ST88Q03      310980 non-null  object \n",
      " 251 ST88Q04      311371 non-null  object \n",
      " 252 ST89Q02      311522 non-null  object \n",
      " 253 ST89Q03      311233 non-null  object \n",
      " 254 ST89Q04      311243 non-null  object \n",
      " 255 ST89Q05      311138 non-null  object \n",
      " 256 ST91Q01      311430 non-null  object \n",
      " 257 ST91Q02      310396 non-null  object \n",
      " 258 ST91Q03      309826 non-null  object \n",
      " 259 ST91Q04      309398 non-null  object \n",
      " 260 ST91Q05      309610 non-null  object \n",
      " 261 ST91Q06      309656 non-null  object \n",
      " 262 ST93Q01      312856 non-null  object \n",
      " 263 ST93Q03      312140 non-null  object \n",
      " 264 ST93Q04      311311 non-null  object \n",
      " 265 ST93Q06      312270 non-null  object \n",
      " 266 ST93Q07      312259 non-null  object \n",
      " 267 ST94Q05      312404 non-null  object \n",
      " 268 ST94Q06      312185 non-null  object \n",
      " 269 ST94Q09      311413 non-null  object \n",
      " 270 ST94Q10      311747 non-null  object \n",
      " 271 ST94Q14      312001 non-null  object \n",
      " 272 ST96Q01      311381 non-null  object \n",
      " 273 ST96Q02      311460 non-null  object \n",
      " 274 ST96Q03      311078 non-null  object \n",
      " 275 ST96Q05      311319 non-null  object \n",
      " 276 ST101Q01     311290 non-null  float64\n",
      " 277 ST101Q02     310906 non-null  float64\n",
      " 278 ST101Q03     310321 non-null  float64\n",
      " 279 ST101Q05     310655 non-null  float64\n",
      " 280 ST104Q01     310449 non-null  float64\n",
      " 281 ST104Q04     309969 non-null  float64\n",
      " 282 ST104Q05     310366 non-null  float64\n",
      " 283 ST104Q06     310156 non-null  float64\n",
      " 284 IC01Q01      296977 non-null  object \n",
      " 285 IC01Q02      297068 non-null  object \n",
      " 286 IC01Q03      295602 non-null  object \n",
      " 287 IC01Q04      297305 non-null  object \n",
      " 288 IC01Q05      296587 non-null  object \n",
      " 289 IC01Q06      294773 non-null  object \n",
      " 290 IC01Q07      296116 non-null  object \n",
      " 291 IC01Q08      297109 non-null  object \n",
      " 292 IC01Q09      296855 non-null  object \n",
      " 293 IC01Q10      297451 non-null  object \n",
      " 294 IC01Q11      295118 non-null  object \n",
      " 295 IC02Q01      296975 non-null  object \n",
      " 296 IC02Q02      295618 non-null  object \n",
      " 297 IC02Q03      294625 non-null  object \n",
      " 298 IC02Q04      296944 non-null  object \n",
      " 299 IC02Q05      296167 non-null  object \n",
      " 300 IC02Q06      295830 non-null  object \n",
      " 301 IC02Q07      294249 non-null  object \n",
      " 302 IC03Q01      293216 non-null  object \n",
      " 303 IC04Q01      296305 non-null  object \n",
      " 304 IC05Q01      485490 non-null  int64  \n",
      " 305 IC06Q01      485490 non-null  int64  \n",
      " 306 IC07Q01      485490 non-null  int64  \n",
      " 307 IC08Q01      294123 non-null  object \n",
      " 308 IC08Q02      293646 non-null  object \n",
      " 309 IC08Q03      293162 non-null  object \n",
      " 310 IC08Q04      293249 non-null  object \n",
      " 311 IC08Q05      293822 non-null  object \n",
      " 312 IC08Q06      293744 non-null  object \n",
      " 313 IC08Q07      293570 non-null  object \n",
      " 314 IC08Q08      293053 non-null  object \n",
      " 315 IC08Q09      293496 non-null  object \n",
      " 316 IC08Q11      293431 non-null  object \n",
      " 317 IC09Q01      292880 non-null  object \n",
      " 318 IC09Q02      292463 non-null  object \n",
      " 319 IC09Q03      291964 non-null  object \n",
      " 320 IC09Q04      292024 non-null  object \n",
      " 321 IC09Q05      291721 non-null  object \n",
      " 322 IC09Q06      291982 non-null  object \n",
      " 323 IC09Q07      292051 non-null  object \n",
      " 324 IC10Q01      291811 non-null  object \n",
      " 325 IC10Q02      291025 non-null  object \n",
      " 326 IC10Q03      290262 non-null  object \n",
      " 327 IC10Q04      290907 non-null  object \n",
      " 328 IC10Q05      291025 non-null  object \n",
      " 329 IC10Q06      290268 non-null  object \n",
      " 330 IC10Q07      290565 non-null  object \n",
      " 331 IC10Q08      290770 non-null  object \n",
      " 332 IC10Q09      290815 non-null  object \n",
      " 333 IC11Q01      289894 non-null  object \n",
      " 334 IC11Q02      289427 non-null  object \n",
      " 335 IC11Q03      288868 non-null  object \n",
      " 336 IC11Q04      289085 non-null  object \n",
      " 337 IC11Q05      289082 non-null  object \n",
      " 338 IC11Q06      289269 non-null  object \n",
      " 339 IC11Q07      289277 non-null  object \n",
      " 340 IC22Q01      290487 non-null  object \n",
      " 341 IC22Q02      290000 non-null  object \n",
      " 342 IC22Q04      289671 non-null  object \n",
      " 343 IC22Q06      289239 non-null  object \n",
      " 344 IC22Q07      288871 non-null  object \n",
      " 345 IC22Q08      288959 non-null  object \n",
      " 346 EC01Q01      156043 non-null  object \n",
      " 347 EC02Q01      156008 non-null  object \n",
      " 348 EC03Q01      160533 non-null  object \n",
      " 349 EC03Q02      165310 non-null  object \n",
      " 350 EC03Q03      165197 non-null  object \n",
      " 351 EC03Q04      165164 non-null  object \n",
      " 352 EC03Q05      164984 non-null  object \n",
      " 353 EC03Q06      164935 non-null  object \n",
      " 354 EC03Q07      165136 non-null  object \n",
      " 355 EC03Q08      164921 non-null  object \n",
      " 356 EC03Q09      164992 non-null  object \n",
      " 357 EC03Q10      132539 non-null  object \n",
      " 358 EC04Q01A     169730 non-null  float64\n",
      " 359 EC04Q01B     169765 non-null  float64\n",
      " 360 EC04Q01C     169779 non-null  float64\n",
      " 361 EC04Q02A     169783 non-null  float64\n",
      " 362 EC04Q02B     169784 non-null  float64\n",
      " 363 EC04Q02C     169798 non-null  float64\n",
      " 364 EC04Q03A     169796 non-null  float64\n",
      " 365 EC04Q03B     169786 non-null  float64\n",
      " 366 EC04Q03C     169799 non-null  float64\n",
      " 367 EC04Q04A     169655 non-null  float64\n",
      " 368 EC04Q04B     169641 non-null  float64\n",
      " 369 EC04Q04C     169656 non-null  float64\n",
      " 370 EC04Q05A     169716 non-null  float64\n",
      " 371 EC04Q05B     169716 non-null  float64\n",
      " 372 EC04Q05C     169725 non-null  float64\n",
      " 373 EC04Q06A     169643 non-null  float64\n",
      " 374 EC04Q06B     169640 non-null  float64\n",
      " 375 EC04Q06C     169636 non-null  float64\n",
      " 376 EC05Q01      129658 non-null  object \n",
      " 377 EC06Q01      40345 non-null   object \n",
      " 378 EC07Q01      44012 non-null   object \n",
      " 379 EC07Q02      43219 non-null   object \n",
      " 380 EC07Q03      42277 non-null   object \n",
      " 381 EC07Q04      42832 non-null   object \n",
      " 382 EC07Q05      42864 non-null   object \n",
      " 383 EC08Q01      43633 non-null   object \n",
      " 384 EC08Q02      43393 non-null   object \n",
      " 385 EC08Q03      43489 non-null   object \n",
      " 386 EC08Q04      43330 non-null   object \n",
      " 387 EC09Q03      118588 non-null  object \n",
      " 388 EC10Q01      43293 non-null   object \n",
      " 389 EC11Q02      118637 non-null  object \n",
      " 390 EC11Q03      118659 non-null  object \n",
      " 391 EC12Q01      42909 non-null   object \n",
      " 392 ST22Q01      40721 non-null   object \n",
      " 393 ST23Q01      13730 non-null   object \n",
      " 394 ST23Q02      13512 non-null   object \n",
      " 395 ST23Q03      13497 non-null   object \n",
      " 396 ST23Q04      13411 non-null   object \n",
      " 397 ST23Q05      13450 non-null   object \n",
      " 398 ST23Q06      13373 non-null   object \n",
      " 399 ST23Q07      13411 non-null   object \n",
      " 400 ST23Q08      13382 non-null   object \n",
      " 401 ST24Q01      13457 non-null   object \n",
      " 402 ST24Q02      13351 non-null   object \n",
      " 403 ST24Q03      13281 non-null   object \n",
      " 404 CLCUSE1      412337 non-null  object \n",
      " 405 CLCUSE301    485490 non-null  int64  \n",
      " 406 CLCUSE302    485490 non-null  int64  \n",
      " 407 DEFFORT      485490 non-null  int64  \n",
      " 408 QUESTID      485490 non-null  object \n",
      " 409 BOOKID       485490 non-null  object \n",
      " 410 EASY         485490 non-null  object \n",
      " 411 AGE          485374 non-null  float64\n",
      " 412 GRADE        484617 non-null  float64\n",
      " 413 PROGN        485490 non-null  object \n",
      " 414 ANXMAT       314764 non-null  float64\n",
      " 415 ATSCHL       312584 non-null  float64\n",
      " 416 ATTLNACT     311675 non-null  float64\n",
      " 417 BELONG       313399 non-null  float64\n",
      " 418 BFMJ2        416150 non-null  float64\n",
      " 419 BMMJ1        364814 non-null  float64\n",
      " 420 CLSMAN       312708 non-null  float64\n",
      " 421 COBN_F       481825 non-null  object \n",
      " 422 COBN_M       481843 non-null  object \n",
      " 423 COBN_S       481836 non-null  object \n",
      " 424 COGACT       314557 non-null  float64\n",
      " 425 CULTDIST     13380 non-null   float64\n",
      " 426 CULTPOS      471357 non-null  float64\n",
      " 427 DISCLIMA     314777 non-null  float64\n",
      " 428 ENTUSE       295195 non-null  float64\n",
      " 429 ESCS         473648 non-null  float64\n",
      " 430 EXAPPLM      313279 non-null  float64\n",
      " 431 EXPUREM      312602 non-null  float64\n",
      " 432 FAILMAT      314448 non-null  float64\n",
      " 433 FAMCON       310304 non-null  float64\n",
      " 434 FAMCONC      308442 non-null  float64\n",
      " 435 FAMSTRUC     429058 non-null  float64\n",
      " 436 FISCED       452903 non-null  object \n",
      " 437 HEDRES       477772 non-null  float64\n",
      " 438 HERITCUL     13496 non-null   float64\n",
      " 439 HISCED       473091 non-null  object \n",
      " 440 HISEI        450621 non-null  float64\n",
      " 441 HOMEPOS      479807 non-null  float64\n",
      " 442 HOMSCH       293194 non-null  float64\n",
      " 443 HOSTCUL      13598 non-null   float64\n",
      " 444 ICTATTNEG    289744 non-null  float64\n",
      " 445 ICTATTPOS    290490 non-null  float64\n",
      " 446 ICTHOME      298740 non-null  float64\n",
      " 447 ICTRES       477754 non-null  float64\n",
      " 448 ICTSCH       297995 non-null  float64\n",
      " 449 IMMIG        471793 non-null  object \n",
      " 450 INFOCAR      165792 non-null  float64\n",
      " 451 INFOJOB1     83305 non-null   float64\n",
      " 452 INFOJOB2     83305 non-null   float64\n",
      " 453 INSTMOT      316322 non-null  float64\n",
      " 454 INTMAT       316708 non-null  float64\n",
      " 455 ISCEDD       485438 non-null  object \n",
      " 456 ISCEDL       485438 non-null  object \n",
      " 457 ISCEDO       485438 non-null  object \n",
      " 458 LANGCOMM     44094 non-null   float64\n",
      " 459 LANGN        481765 non-null  object \n",
      " 460 LANGRPPD     43137 non-null   float64\n",
      " 461 LMINS        282866 non-null  float64\n",
      " 462 MATBEH       313847 non-null  float64\n",
      " 463 MATHEFF      315948 non-null  float64\n",
      " 464 MATINTFC     301360 non-null  float64\n",
      " 465 MATWKETH     314501 non-null  float64\n",
      " 466 MISCED       467085 non-null  object \n",
      " 467 MMINS        283303 non-null  float64\n",
      " 468 MTSUP        313599 non-null  float64\n",
      " 469 OCOD1        483887 non-null  object \n",
      " 470 OCOD2        482936 non-null  object \n",
      " 471 OPENPS       312766 non-null  float64\n",
      " 472 OUTHOURS     308799 non-null  float64\n",
      " 473 PARED        473091 non-null  float64\n",
      " 474 PERSEV       313172 non-null  float64\n",
      " 475 REPEAT       461117 non-null  object \n",
      " 476 SCMAT        314607 non-null  float64\n",
      " 477 SMINS        270914 non-null  float64\n",
      " 478 STUDREL      313860 non-null  float64\n",
      " 479 SUBNORM      316323 non-null  float64\n",
      " 480 TCHBEHFA     314678 non-null  float64\n",
      " 481 TCHBEHSO     315114 non-null  float64\n",
      " 482 TCHBEHTD     315519 non-null  float64\n",
      " 483 TEACHSUP     316371 non-null  float64\n",
      " 484 TESTLANG     484697 non-null  object \n",
      " 485 TIMEINT      297074 non-null  float64\n",
      " 486 USEMATH      290260 non-null  float64\n",
      " 487 USESCH       292585 non-null  float64\n",
      " 488 WEALTH       479597 non-null  float64\n",
      " 489 ANCATSCHL    306835 non-null  float64\n",
      " 490 ANCATTLNACT  306487 non-null  float64\n",
      " 491 ANCBELONG    307640 non-null  float64\n",
      " 492 ANCCLSMAN    308467 non-null  float64\n",
      " 493 ANCCOGACT    308150 non-null  float64\n",
      " 494 ANCINSTMOT   155221 non-null  float64\n",
      " 495 ANCINTMAT    155280 non-null  float64\n",
      " 496 ANCMATWKETH  153879 non-null  float64\n",
      " 497 ANCMTSUP     308631 non-null  float64\n",
      " 498 ANCSCMAT     306948 non-null  float64\n",
      " 499 ANCSTUDREL   308058 non-null  float64\n",
      " 500 ANCSUBNORM   155233 non-null  float64\n",
      " 501 PV1MATH      485490 non-null  float64\n",
      " 502 PV2MATH      485490 non-null  float64\n",
      " 503 PV3MATH      485490 non-null  float64\n",
      " 504 PV4MATH      485490 non-null  float64\n",
      " 505 PV5MATH      485490 non-null  float64\n",
      " 506 PV1MACC      473031 non-null  float64\n",
      " 507 PV2MACC      473031 non-null  float64\n",
      " 508 PV3MACC      473031 non-null  float64\n",
      " 509 PV4MACC      473031 non-null  float64\n",
      " 510 PV5MACC      473031 non-null  float64\n",
      " 511 PV1MACQ      473031 non-null  float64\n",
      " 512 PV2MACQ      473031 non-null  float64\n",
      " 513 PV3MACQ      473031 non-null  float64\n",
      " 514 PV4MACQ      473031 non-null  float64\n",
      " 515 PV5MACQ      473031 non-null  float64\n",
      " 516 PV1MACS      473031 non-null  float64\n",
      " 517 PV2MACS      473031 non-null  float64\n",
      " 518 PV3MACS      473031 non-null  float64\n",
      " 519 PV4MACS      473031 non-null  float64\n",
      " 520 PV5MACS      473031 non-null  float64\n",
      " 521 PV1MACU      473031 non-null  float64\n",
      " 522 PV2MACU      473031 non-null  float64\n",
      " 523 PV3MACU      473031 non-null  float64\n",
      " 524 PV4MACU      473031 non-null  float64\n",
      " 525 PV5MACU      473031 non-null  float64\n",
      " 526 PV1MAPE      471439 non-null  float64\n",
      " 527 PV2MAPE      471439 non-null  float64\n",
      " 528 PV3MAPE      471439 non-null  float64\n",
      " 529 PV4MAPE      471439 non-null  float64\n",
      " 530 PV5MAPE      471439 non-null  float64\n",
      " 531 PV1MAPF      471439 non-null  float64\n",
      " 532 PV2MAPF      471439 non-null  float64\n",
      " 533 PV3MAPF      471439 non-null  float64\n",
      " 534 PV4MAPF      471439 non-null  float64\n",
      " 535 PV5MAPF      471439 non-null  float64\n",
      " 536 PV1MAPI      471439 non-null  float64\n",
      " 537 PV2MAPI      471439 non-null  float64\n",
      " 538 PV3MAPI      471439 non-null  float64\n",
      " 539 PV4MAPI      471439 non-null  float64\n",
      " 540 PV5MAPI      471439 non-null  float64\n",
      " 541 PV1READ      485490 non-null  float64\n",
      " 542 PV2READ      485490 non-null  float64\n",
      " 543 PV3READ      485490 non-null  float64\n",
      " 544 PV4READ      485490 non-null  float64\n",
      " 545 PV5READ      485490 non-null  float64\n",
      " 546 PV1SCIE      485490 non-null  float64\n",
      " 547 PV2SCIE      485490 non-null  float64\n",
      " 548 PV3SCIE      485490 non-null  float64\n",
      " 549 PV4SCIE      485490 non-null  float64\n",
      " 550 PV5SCIE      485490 non-null  float64\n",
      " 551 W_FSTUWT     485490 non-null  float64\n",
      " 552 W_FSTR1      485490 non-null  float64\n",
      " 553 W_FSTR2      485490 non-null  float64\n",
      " 554 W_FSTR3      485490 non-null  float64\n",
      " 555 W_FSTR4      485490 non-null  float64\n",
      " 556 W_FSTR5      485490 non-null  float64\n",
      " 557 W_FSTR6      485490 non-null  float64\n",
      " 558 W_FSTR7      485490 non-null  float64\n",
      " 559 W_FSTR8      485490 non-null  float64\n",
      " 560 W_FSTR9      485490 non-null  float64\n",
      " 561 W_FSTR10     485490 non-null  float64\n",
      " 562 W_FSTR11     485490 non-null  float64\n",
      " 563 W_FSTR12     485490 non-null  float64\n",
      " 564 W_FSTR13     485490 non-null  float64\n",
      " 565 W_FSTR14     485490 non-null  float64\n",
      " 566 W_FSTR15     485490 non-null  float64\n",
      " 567 W_FSTR16     485490 non-null  float64\n",
      " 568 W_FSTR17     485490 non-null  float64\n",
      " 569 W_FSTR18     485490 non-null  float64\n",
      " 570 W_FSTR19     485490 non-null  float64\n",
      " 571 W_FSTR20     485490 non-null  float64\n",
      " 572 W_FSTR21     485490 non-null  float64\n",
      " 573 W_FSTR22     485490 non-null  float64\n",
      " 574 W_FSTR23     485490 non-null  float64\n",
      " 575 W_FSTR24     485490 non-null  float64\n",
      " 576 W_FSTR25     485490 non-null  float64\n",
      " 577 W_FSTR26     485490 non-null  float64\n",
      " 578 W_FSTR27     485490 non-null  float64\n",
      " 579 W_FSTR28     485490 non-null  float64\n",
      " 580 W_FSTR29     485490 non-null  float64\n",
      " 581 W_FSTR30     485490 non-null  float64\n",
      " 582 W_FSTR31     485490 non-null  float64\n",
      " 583 W_FSTR32     485490 non-null  float64\n",
      " 584 W_FSTR33     485490 non-null  float64\n",
      " 585 W_FSTR34     485490 non-null  float64\n",
      " 586 W_FSTR35     485490 non-null  float64\n",
      " 587 W_FSTR36     485490 non-null  float64\n",
      " 588 W_FSTR37     485490 non-null  float64\n",
      " 589 W_FSTR38     485490 non-null  float64\n",
      " 590 W_FSTR39     485490 non-null  float64\n",
      " 591 W_FSTR40     485490 non-null  float64\n",
      " 592 W_FSTR41     485490 non-null  float64\n",
      " 593 W_FSTR42     485490 non-null  float64\n",
      " 594 W_FSTR43     485490 non-null  float64\n",
      " 595 W_FSTR44     485490 non-null  float64\n",
      " 596 W_FSTR45     485490 non-null  float64\n",
      " 597 W_FSTR46     485490 non-null  float64\n",
      " 598 W_FSTR47     485490 non-null  float64\n",
      " 599 W_FSTR48     485490 non-null  float64\n",
      " 600 W_FSTR49     485490 non-null  float64\n",
      " 601 W_FSTR50     485490 non-null  float64\n",
      " 602 W_FSTR51     485490 non-null  float64\n",
      " 603 W_FSTR52     485490 non-null  float64\n",
      " 604 W_FSTR53     485490 non-null  float64\n",
      " 605 W_FSTR54     485490 non-null  float64\n",
      " 606 W_FSTR55     485490 non-null  float64\n",
      " 607 W_FSTR56     485490 non-null  float64\n",
      " 608 W_FSTR57     485490 non-null  float64\n",
      " 609 W_FSTR58     485490 non-null  float64\n",
      " 610 W_FSTR59     485490 non-null  float64\n",
      " 611 W_FSTR60     485490 non-null  float64\n",
      " 612 W_FSTR61     485490 non-null  float64\n",
      " 613 W_FSTR62     485490 non-null  float64\n",
      " 614 W_FSTR63     485490 non-null  float64\n",
      " 615 W_FSTR64     485490 non-null  float64\n",
      " 616 W_FSTR65     485490 non-null  float64\n",
      " 617 W_FSTR66     485490 non-null  float64\n",
      " 618 W_FSTR67     485490 non-null  float64\n",
      " 619 W_FSTR68     485490 non-null  float64\n",
      " 620 W_FSTR69     485490 non-null  float64\n",
      " 621 W_FSTR70     485490 non-null  float64\n",
      " 622 W_FSTR71     485490 non-null  float64\n",
      " 623 W_FSTR72     485490 non-null  float64\n",
      " 624 W_FSTR73     485490 non-null  float64\n",
      " 625 W_FSTR74     485490 non-null  float64\n",
      " 626 W_FSTR75     485490 non-null  float64\n",
      " 627 W_FSTR76     485490 non-null  float64\n",
      " 628 W_FSTR77     485490 non-null  float64\n",
      " 629 W_FSTR78     485490 non-null  float64\n",
      " 630 W_FSTR79     485490 non-null  float64\n",
      " 631 W_FSTR80     485490 non-null  float64\n",
      " 632 WVARSTRR     485490 non-null  int64  \n",
      " 633 VAR_UNIT     485490 non-null  int64  \n",
      " 634 SENWGT_STU   485490 non-null  float64\n",
      " 635 VER_STU      485490 non-null  object \n",
      "dtypes: float64(250), int64(18), object(368)\n",
      "memory usage: 2.3+ GB\n"
     ]
    }
   ],
   "source": [
    "df_pisa.info(verbose=True, null_counts=True)"
   ]
  },
  {
   "cell_type": "markdown",
   "metadata": {},
   "source": [
    "## Quick data analysis\n",
    "\n",
    "1. Dataset has 485490 rows, and 635 columns\n",
    "2. this is a huge dataset, we need to filter out columns based on question we need to answer. since the focus of PISA is math, science and reading. we need to get columns with such important details or have impact. such as:\n",
    " - math/reading/science score\n",
    " - internet\n",
    " - mother, father education\n",
    " - gender\n",
    " - mother still available and at home\n",
    " - father still available and at home\n",
    " - mother highest schooling\n",
    " - father highest schooling\n",
    " - Math scores (5 items)\n",
    " - reading scores (5 items)\n",
    " - science scores (5 items)\n",
    " \n",
    "3. Ration of females to male also 50/50 (more female)\n",
    "4. students coming from 68 countries (67 to be exact, USA represented by two records Connecticut & Massachusetts. Liechtenstein with total count of 293, while mixco comes first with total rows of 33806. Wonder why Mixco gets the lion share?\n"
   ]
  },
  {
   "cell_type": "code",
   "execution_count": null,
   "metadata": {},
   "outputs": [],
   "source": []
  },
  {
   "cell_type": "markdown",
   "metadata": {},
   "source": [
    "## Data wrangling"
   ]
  },
  {
   "cell_type": "markdown",
   "metadata": {},
   "source": [
    "During my analysis i will try answering the following quetions:\n",
    "\n",
    "1. How will student from various countries perform in math, reading, and science cosidering mother, father education, work, availability of internet, and textbox?\n",
    "2. Are there countries that perform better than others?\n",
    "3. compare results based on gender?"
   ]
  },
  {
   "cell_type": "code",
   "execution_count": 95,
   "metadata": {},
   "outputs": [
    {
     "name": "stderr",
     "output_type": "stream",
     "text": [
      "C:\\Users\\saatt\\AppData\\Local\\Continuum\\anaconda3\\lib\\site-packages\\IPython\\core\\interactiveshell.py:3063: DtypeWarning: Columns (21,22) have mixed types.Specify dtype option on import or set low_memory=False.\n",
      "  interactivity=interactivity, compiler=compiler, result=result)\n"
     ]
    }
   ],
   "source": [
    "#Rename some of the columns to be more intiuitive and useful\n",
    "cols=['CNT','STIDSTD','AGE','ST04Q01','ST11Q01', 'ST11Q02','ST13Q01','ST15Q01','ST17Q01','ST19Q01','ST26Q06','ST26Q10','PV1MATH','PV2MATH','PV3MATH','PV4MATH','PV5MATH','PV1READ','PV2READ','PV3READ','PV4READ','PV5READ','PV1SCIE','PV2SCIE','PV3SCIE','PV4SCIE','PV5SCIE']\n",
    "df_pisa_clean = pd.read_csv('pisa2012.csv', usecols=cols, encoding = \"ISO-8859-1\")"
   ]
  },
  {
   "cell_type": "code",
   "execution_count": 96,
   "metadata": {},
   "outputs": [
    {
     "name": "stdout",
     "output_type": "stream",
     "text": [
      "<class 'pandas.core.frame.DataFrame'>\n",
      "RangeIndex: 485490 entries, 0 to 485489\n",
      "Data columns (total 27 columns):\n",
      " #   Column   Non-Null Count   Dtype  \n",
      "---  ------   --------------   -----  \n",
      " 0   CNT      485490 non-null  object \n",
      " 1   STIDSTD  485490 non-null  int64  \n",
      " 2   ST04Q01  485490 non-null  object \n",
      " 3   ST11Q01  460559 non-null  object \n",
      " 4   ST11Q02  441036 non-null  object \n",
      " 5   ST13Q01  457979 non-null  object \n",
      " 6   ST15Q01  467751 non-null  object \n",
      " 7   ST17Q01  443261 non-null  object \n",
      " 8   ST19Q01  451410 non-null  object \n",
      " 9   ST26Q06  473182 non-null  object \n",
      " 10  ST26Q10  471242 non-null  object \n",
      " 11  AGE      485374 non-null  float64\n",
      " 12  PV1MATH  485490 non-null  float64\n",
      " 13  PV2MATH  485490 non-null  float64\n",
      " 14  PV3MATH  485490 non-null  float64\n",
      " 15  PV4MATH  485490 non-null  float64\n",
      " 16  PV5MATH  485490 non-null  float64\n",
      " 17  PV1READ  485490 non-null  float64\n",
      " 18  PV2READ  485490 non-null  float64\n",
      " 19  PV3READ  485490 non-null  float64\n",
      " 20  PV4READ  485490 non-null  float64\n",
      " 21  PV5READ  485490 non-null  float64\n",
      " 22  PV1SCIE  485490 non-null  float64\n",
      " 23  PV2SCIE  485490 non-null  float64\n",
      " 24  PV3SCIE  485490 non-null  float64\n",
      " 25  PV4SCIE  485490 non-null  float64\n",
      " 26  PV5SCIE  485490 non-null  float64\n",
      "dtypes: float64(16), int64(1), object(10)\n",
      "memory usage: 100.0+ MB\n"
     ]
    }
   ],
   "source": [
    "df_pisa_clean.info()"
   ]
  },
  {
   "cell_type": "markdown",
   "metadata": {},
   "source": [
    "## fill  columns with nan values as below"
   ]
  },
  {
   "cell_type": "code",
   "execution_count": 97,
   "metadata": {},
   "outputs": [],
   "source": [
    "#fillna with 'unknown for nan values of mother at home: ST11Q01 & father at home ST11Q02\n",
    "#mother at home with unknown\n",
    "df_pisa_clean['ST11Q01'].fillna('unknown', inplace=True)\n",
    "# fillna father at home with unknjown\n",
    "df_pisa_clean['ST11Q02'].fillna('unknown', inplace=True)\n",
    "#mother highest schooling\n",
    "df_pisa_clean['ST13Q01'].fillna('unknown', inplace=True)\n",
    "#mother current job  with unknjown\n",
    "df_pisa_clean['ST15Q01'].fillna('unknown', inplace=True)\n",
    "#father highest schooling  with unknjown\n",
    "df_pisa_clean['ST17Q01'].fillna('unknown', inplace=True)\n",
    "#father current job  with unknjown\n",
    "df_pisa_clean['ST19Q01'].fillna('unknown', inplace=True)\n",
    "#internet  with unknjown\n",
    "df_pisa_clean['ST26Q06'].fillna('unknown', inplace=True)\n",
    "#testbook  with unknjown\n",
    "df_pisa_clean['ST26Q10'].fillna('unknown', inplace=True)\n",
    "#age with mean age\n",
    "mean=df_pisa_clean['AGE'].mean()\n",
    "df_pisa_clean['AGE'].fillna(mean, inplace=True)\n"
   ]
  },
  {
   "cell_type": "code",
   "execution_count": 98,
   "metadata": {},
   "outputs": [
    {
     "name": "stdout",
     "output_type": "stream",
     "text": [
      "<class 'pandas.core.frame.DataFrame'>\n",
      "RangeIndex: 485490 entries, 0 to 485489\n",
      "Data columns (total 27 columns):\n",
      " #   Column   Non-Null Count   Dtype  \n",
      "---  ------   --------------   -----  \n",
      " 0   CNT      485490 non-null  object \n",
      " 1   STIDSTD  485490 non-null  int64  \n",
      " 2   ST04Q01  485490 non-null  object \n",
      " 3   ST11Q01  485490 non-null  object \n",
      " 4   ST11Q02  485490 non-null  object \n",
      " 5   ST13Q01  485490 non-null  object \n",
      " 6   ST15Q01  485490 non-null  object \n",
      " 7   ST17Q01  485490 non-null  object \n",
      " 8   ST19Q01  485490 non-null  object \n",
      " 9   ST26Q06  485490 non-null  object \n",
      " 10  ST26Q10  485490 non-null  object \n",
      " 11  AGE      485490 non-null  float64\n",
      " 12  PV1MATH  485490 non-null  float64\n",
      " 13  PV2MATH  485490 non-null  float64\n",
      " 14  PV3MATH  485490 non-null  float64\n",
      " 15  PV4MATH  485490 non-null  float64\n",
      " 16  PV5MATH  485490 non-null  float64\n",
      " 17  PV1READ  485490 non-null  float64\n",
      " 18  PV2READ  485490 non-null  float64\n",
      " 19  PV3READ  485490 non-null  float64\n",
      " 20  PV4READ  485490 non-null  float64\n",
      " 21  PV5READ  485490 non-null  float64\n",
      " 22  PV1SCIE  485490 non-null  float64\n",
      " 23  PV2SCIE  485490 non-null  float64\n",
      " 24  PV3SCIE  485490 non-null  float64\n",
      " 25  PV4SCIE  485490 non-null  float64\n",
      " 26  PV5SCIE  485490 non-null  float64\n",
      "dtypes: float64(16), int64(1), object(10)\n",
      "memory usage: 100.0+ MB\n"
     ]
    }
   ],
   "source": [
    "df_pisa_clean.info()"
   ]
  },
  {
   "cell_type": "code",
   "execution_count": 99,
   "metadata": {},
   "outputs": [
    {
     "data": {
      "text/plain": [
       "Yes        372161\n",
       "No          68875\n",
       "unknown     44454\n",
       "Name: ST11Q02, dtype: int64"
      ]
     },
     "execution_count": 99,
     "metadata": {},
     "output_type": "execute_result"
    }
   ],
   "source": [
    "df_pisa_clean['ST11Q02'].value_counts()"
   ]
  },
  {
   "cell_type": "markdown",
   "metadata": {},
   "source": [
    "## Rename columns to be more intuitive and easy to handle"
   ]
  },
  {
   "cell_type": "code",
   "execution_count": 100,
   "metadata": {},
   "outputs": [],
   "source": [
    "df_pisa_clean.rename(columns={'CNT': 'country', 'STIDSTD': 'student_id', 'AGE':'age','ST04Q01':'gender',\n",
    "                              'ST11Q01':'mother_at_home','ST11Q02':'father_at_home',\n",
    "                              'ST13Q01':'mother_grade', 'ST15Q01':'mother_job','ST17Q01':'father_grade',\n",
    "                              'ST19Q01':'father_job','ST26Q06':'internet','ST26Q10':'textbook'},inplace=True)"
   ]
  },
  {
   "cell_type": "code",
   "execution_count": 101,
   "metadata": {},
   "outputs": [
    {
     "name": "stdout",
     "output_type": "stream",
     "text": [
      "<class 'pandas.core.frame.DataFrame'>\n",
      "RangeIndex: 485490 entries, 0 to 485489\n",
      "Data columns (total 27 columns):\n",
      " #   Column          Non-Null Count   Dtype  \n",
      "---  ------          --------------   -----  \n",
      " 0   country         485490 non-null  object \n",
      " 1   student_id      485490 non-null  int64  \n",
      " 2   gender          485490 non-null  object \n",
      " 3   mother_at_home  485490 non-null  object \n",
      " 4   father_at_home  485490 non-null  object \n",
      " 5   mother_grade    485490 non-null  object \n",
      " 6   mother_job      485490 non-null  object \n",
      " 7   father_grade    485490 non-null  object \n",
      " 8   father_job      485490 non-null  object \n",
      " 9   internet        485490 non-null  object \n",
      " 10  textbook        485490 non-null  object \n",
      " 11  age             485490 non-null  float64\n",
      " 12  PV1MATH         485490 non-null  float64\n",
      " 13  PV2MATH         485490 non-null  float64\n",
      " 14  PV3MATH         485490 non-null  float64\n",
      " 15  PV4MATH         485490 non-null  float64\n",
      " 16  PV5MATH         485490 non-null  float64\n",
      " 17  PV1READ         485490 non-null  float64\n",
      " 18  PV2READ         485490 non-null  float64\n",
      " 19  PV3READ         485490 non-null  float64\n",
      " 20  PV4READ         485490 non-null  float64\n",
      " 21  PV5READ         485490 non-null  float64\n",
      " 22  PV1SCIE         485490 non-null  float64\n",
      " 23  PV2SCIE         485490 non-null  float64\n",
      " 24  PV3SCIE         485490 non-null  float64\n",
      " 25  PV4SCIE         485490 non-null  float64\n",
      " 26  PV5SCIE         485490 non-null  float64\n",
      "dtypes: float64(16), int64(1), object(10)\n",
      "memory usage: 100.0+ MB\n"
     ]
    }
   ],
   "source": [
    "df_pisa_clean.info()"
   ]
  },
  {
   "cell_type": "code",
   "execution_count": 102,
   "metadata": {},
   "outputs": [],
   "source": [
    "# calculate mean value for math, reading, science\n",
    "# add a new column for total of means\n",
    "df_pisa_clean['math']=(df_pisa_clean['PV1MATH']+df_pisa_clean['PV2MATH']+df_pisa_clean['PV3MATH']+df_pisa_clean['PV4MATH']+df_pisa_clean['PV5MATH'])/5\n",
    "df_pisa_clean['reading']=(df_pisa_clean['PV1READ']+df_pisa_clean['PV2READ']+df_pisa_clean['PV3READ']+df_pisa_clean['PV4READ']+df_pisa_clean['PV5READ'])/5\n",
    "df_pisa_clean['science']=(df_pisa_clean['PV1SCIE']+df_pisa_clean['PV2SCIE']+df_pisa_clean['PV3SCIE']+df_pisa_clean['PV4SCIE']+df_pisa_clean['PV5SCIE'])/5\n",
    "df_pisa_clean['total']=(df_pisa_clean['math']+df_pisa_clean['reading']+df_pisa_clean['science'])/3"
   ]
  },
  {
   "cell_type": "code",
   "execution_count": 103,
   "metadata": {},
   "outputs": [],
   "source": [
    "# since we are used the average value for each of Math, reading and science, no need to keep the old columns.\n",
    "df_pisa_clean.drop(columns=['PV1MATH','PV2MATH','PV3MATH','PV4MATH','PV5MATH',\n",
    "                           'PV1READ','PV2READ','PV3READ','PV4READ','PV5READ',\n",
    "                           'PV1SCIE','PV2SCIE','PV3SCIE','PV4SCIE','PV5SCIE'],inplace=True)"
   ]
  },
  {
   "cell_type": "code",
   "execution_count": 104,
   "metadata": {},
   "outputs": [
    {
     "name": "stdout",
     "output_type": "stream",
     "text": [
      "<class 'pandas.core.frame.DataFrame'>\n",
      "RangeIndex: 485490 entries, 0 to 485489\n",
      "Data columns (total 16 columns):\n",
      " #   Column          Non-Null Count   Dtype  \n",
      "---  ------          --------------   -----  \n",
      " 0   country         485490 non-null  object \n",
      " 1   student_id      485490 non-null  int64  \n",
      " 2   gender          485490 non-null  object \n",
      " 3   mother_at_home  485490 non-null  object \n",
      " 4   father_at_home  485490 non-null  object \n",
      " 5   mother_grade    485490 non-null  object \n",
      " 6   mother_job      485490 non-null  object \n",
      " 7   father_grade    485490 non-null  object \n",
      " 8   father_job      485490 non-null  object \n",
      " 9   internet        485490 non-null  object \n",
      " 10  textbook        485490 non-null  object \n",
      " 11  age             485490 non-null  float64\n",
      " 12  math            485490 non-null  float64\n",
      " 13  reading         485490 non-null  float64\n",
      " 14  science         485490 non-null  float64\n",
      " 15  total           485490 non-null  float64\n",
      "dtypes: float64(5), int64(1), object(10)\n",
      "memory usage: 59.3+ MB\n"
     ]
    }
   ],
   "source": [
    "df_pisa_clean.info()"
   ]
  },
  {
   "cell_type": "code",
   "execution_count": 105,
   "metadata": {},
   "outputs": [
    {
     "data": {
      "text/plain": [
       "<ISCED level 3A>                         236993\n",
       "<ISCED level 3B, 3C>                      83048\n",
       "<ISCED level 2>                           82614\n",
       "<ISCED level 1>                           36556\n",
       "unknown                                   27511\n",
       "She did not complete <ISCED level 1>      18768\n",
       "Name: mother_grade, dtype: int64"
      ]
     },
     "execution_count": 105,
     "metadata": {},
     "output_type": "execute_result"
    }
   ],
   "source": [
    "df_pisa_clean['mother_grade'].value_counts()"
   ]
  },
  {
   "cell_type": "code",
   "execution_count": 106,
   "metadata": {},
   "outputs": [
    {
     "data": {
      "text/plain": [
       "<ISCED level 3A>                        215280\n",
       "<ISCED level 3B, 3C>                     91179\n",
       "<ISCED level 2>                          84329\n",
       "unknown                                  42229\n",
       "<ISCED level 1>                          35938\n",
       "He did not complete <ISCED level 1>      16535\n",
       "Name: father_grade, dtype: int64"
      ]
     },
     "execution_count": 106,
     "metadata": {},
     "output_type": "execute_result"
    }
   ],
   "source": [
    "df_pisa_clean['father_grade'].value_counts()"
   ]
  },
  {
   "cell_type": "code",
   "execution_count": 107,
   "metadata": {},
   "outputs": [],
   "source": [
    "# replace values to be less wordy\n",
    "df_pisa_clean['mother_grade'].replace({'<ISCED level 3A> ':'ISCED 3A','<ISCED level 3B, 3C> ': 'ISCED 3B-3C', \n",
    "                                       '<ISCED level 2> ':'ISCED 2', '<ISCED level 1> ':'ISCED 1',\n",
    "                                       'She did not complete <ISCED level 1> ':'incomplete ISCED 1'}, inplace=True)\n",
    "\n",
    "df_pisa_clean['father_grade'].replace({'<ISCED level 3A> ':'ISCED 3A','<ISCED level 3B, 3C> ': 'ISCED 3B-3C', \n",
    "                                       '<ISCED level 2> ':'ISCED 2', '<ISCED level 1> ':'ISCED 1',\n",
    "                                       'He did not complete <ISCED level 1> ':'incomplete ISCED 1'}, inplace=True)"
   ]
  },
  {
   "cell_type": "code",
   "execution_count": 108,
   "metadata": {},
   "outputs": [
    {
     "data": {
      "text/plain": [
       "ISCED 3A              236993\n",
       "ISCED 3B-3C            83048\n",
       "ISCED 2                82614\n",
       "ISCED 1                36556\n",
       "unknown                27511\n",
       "incomplete ISCED 1     18768\n",
       "Name: mother_grade, dtype: int64"
      ]
     },
     "execution_count": 108,
     "metadata": {},
     "output_type": "execute_result"
    }
   ],
   "source": [
    "df_pisa_clean['mother_grade'].value_counts()"
   ]
  },
  {
   "cell_type": "code",
   "execution_count": 109,
   "metadata": {},
   "outputs": [
    {
     "data": {
      "text/plain": [
       "ISCED 3A              215280\n",
       "ISCED 3B-3C            91179\n",
       "ISCED 2                84329\n",
       "unknown                42229\n",
       "ISCED 1                35938\n",
       "incomplete ISCED 1     16535\n",
       "Name: father_grade, dtype: int64"
      ]
     },
     "execution_count": 109,
     "metadata": {},
     "output_type": "execute_result"
    }
   ],
   "source": [
    "df_pisa_clean['father_grade'].value_counts()"
   ]
  },
  {
   "cell_type": "code",
   "execution_count": 110,
   "metadata": {},
   "outputs": [
    {
     "data": {
      "text/plain": [
       "Yes        402040\n",
       "No          71142\n",
       "unknown     12308\n",
       "Name: internet, dtype: int64"
      ]
     },
     "execution_count": 110,
     "metadata": {},
     "output_type": "execute_result"
    }
   ],
   "source": [
    "df_pisa_clean['internet'].value_counts()"
   ]
  },
  {
   "cell_type": "code",
   "execution_count": 111,
   "metadata": {},
   "outputs": [
    {
     "data": {
      "text/plain": [
       "Yes        389408\n",
       "No          81834\n",
       "unknown     14248\n",
       "Name: textbook, dtype: int64"
      ]
     },
     "execution_count": 111,
     "metadata": {},
     "output_type": "execute_result"
    }
   ],
   "source": [
    "df_pisa_clean['textbook'].value_counts()"
   ]
  },
  {
   "cell_type": "code",
   "execution_count": 112,
   "metadata": {},
   "outputs": [
    {
     "data": {
      "text/plain": [
       "Working full-time <for pay>           339697\n",
       "Working part-time <for pay>            49503\n",
       "Other (e.g. home duties, retired)      40588\n",
       "unknown                                34080\n",
       "Not working, but looking for a job     21622\n",
       "Name: father_job, dtype: int64"
      ]
     },
     "execution_count": 112,
     "metadata": {},
     "output_type": "execute_result"
    }
   ],
   "source": [
    "df_pisa_clean['father_job'].value_counts()"
   ]
  },
  {
   "cell_type": "code",
   "execution_count": 113,
   "metadata": {},
   "outputs": [
    {
     "data": {
      "text/plain": [
       "Working full-time <for pay>            219095\n",
       "Other (e.g. home duties, retired)      138841\n",
       "Working part-time <for pay>             78237\n",
       "Not working, but looking for a job      31578\n",
       "unknown                                 17739\n",
       "Name: mother_job, dtype: int64"
      ]
     },
     "execution_count": 113,
     "metadata": {},
     "output_type": "execute_result"
    }
   ],
   "source": [
    "df_pisa_clean['mother_job'].value_counts()"
   ]
  },
  {
   "cell_type": "code",
   "execution_count": 114,
   "metadata": {},
   "outputs": [],
   "source": [
    "# replace values to be less wordy\n",
    "df_pisa_clean['mother_job'].replace({'Working full-time <for pay> ' : 'full-time',\n",
    "                                     'Other (e.g. home duties, retired) ' : 'others', \n",
    "                                     'Working part-time <for pay>' : 'part-time', \n",
    "                                     'Not working, but looking for a job ' : 'unemployed'}, inplace=True)\n",
    "\n",
    "df_pisa_clean['father_job'].replace({'Working full-time <for pay> ' : 'full-time',\n",
    "                                     'Other (e.g. home duties, retired) ' : 'others', \n",
    "                                     'Working part-time <for pay>' : 'part-time', \n",
    "                                     'Not working, but looking for a job' : 'unemployed'}, inplace=True)\n"
   ]
  },
  {
   "cell_type": "code",
   "execution_count": 115,
   "metadata": {},
   "outputs": [
    {
     "data": {
      "text/plain": [
       "full-time     219095\n",
       "others        138841\n",
       "part-time      78237\n",
       "unemployed     31578\n",
       "unknown        17739\n",
       "Name: mother_job, dtype: int64"
      ]
     },
     "execution_count": 115,
     "metadata": {},
     "output_type": "execute_result"
    }
   ],
   "source": [
    "df_pisa_clean['mother_job'].value_counts()"
   ]
  },
  {
   "cell_type": "code",
   "execution_count": 116,
   "metadata": {},
   "outputs": [
    {
     "data": {
      "text/plain": [
       "full-time     339697\n",
       "part-time      49503\n",
       "others         40588\n",
       "unknown        34080\n",
       "unemployed     21622\n",
       "Name: father_job, dtype: int64"
      ]
     },
     "execution_count": 116,
     "metadata": {},
     "output_type": "execute_result"
    }
   ],
   "source": [
    "df_pisa_clean['father_job'].value_counts()"
   ]
  },
  {
   "cell_type": "code",
   "execution_count": 117,
   "metadata": {},
   "outputs": [],
   "source": [
    "# grades is an ordinal category, assuming unknown as the lowest, and ISCED 3B-3C is the max\n",
    "grades_category=['unknown','incomplete ISCED 1','ISCED 1','ISCED 2','ISCED 3A','ISCED 3B-3C',]\n",
    "grades=pd.api.types.CategoricalDtype(ordered=True,categories=grades_category)\n",
    "df_pisa_clean['mother_grade']=df_pisa_clean['mother_grade'].astype(grades)\n",
    "df_pisa_clean['father_grade']=df_pisa_clean['father_grade'].astype(grades)"
   ]
  },
  {
   "cell_type": "code",
   "execution_count": 118,
   "metadata": {},
   "outputs": [],
   "source": [
    "# job category is more a nominal datatype, there is not sequence we can use to say this is higher than the other.\n",
    "\n",
    "job_category=['unknown', 'unemployed','part-time', 'full-time', 'others']\n",
    "jobs=pd.api.types.CategoricalDtype(ordered=False,categories=job_category)\n",
    "df_pisa_clean['mother_job']=df_pisa_clean['mother_job'].astype(jobs)\n",
    "df_pisa_clean['father_job']=df_pisa_clean['father_job'].astype(jobs)"
   ]
  },
  {
   "cell_type": "code",
   "execution_count": 119,
   "metadata": {},
   "outputs": [],
   "source": [
    "# modify type to category for internet, textbook, father_at_home, mother_at_home\n",
    "\n",
    "df_pisa_clean = df_pisa_clean.astype({'internet':'category', 'textbook':'category',\n",
    "                                      'gender':'category','mother_at_home':'category','father_at_home':'category'})"
   ]
  },
  {
   "cell_type": "code",
   "execution_count": 120,
   "metadata": {},
   "outputs": [
    {
     "name": "stdout",
     "output_type": "stream",
     "text": [
      "<class 'pandas.core.frame.DataFrame'>\n",
      "RangeIndex: 485490 entries, 0 to 485489\n",
      "Data columns (total 16 columns):\n",
      " #   Column          Non-Null Count   Dtype   \n",
      "---  ------          --------------   -----   \n",
      " 0   country         485490 non-null  object  \n",
      " 1   student_id      485490 non-null  int64   \n",
      " 2   gender          485490 non-null  category\n",
      " 3   mother_at_home  485490 non-null  category\n",
      " 4   father_at_home  485490 non-null  category\n",
      " 5   mother_grade    485490 non-null  category\n",
      " 6   mother_job      485490 non-null  category\n",
      " 7   father_grade    485490 non-null  category\n",
      " 8   father_job      485490 non-null  category\n",
      " 9   internet        485490 non-null  category\n",
      " 10  textbook        485490 non-null  category\n",
      " 11  age             485490 non-null  float64 \n",
      " 12  math            485490 non-null  float64 \n",
      " 13  reading         485490 non-null  float64 \n",
      " 14  science         485490 non-null  float64 \n",
      " 15  total           485490 non-null  float64 \n",
      "dtypes: category(9), float64(5), int64(1), object(1)\n",
      "memory usage: 30.1+ MB\n"
     ]
    }
   ],
   "source": [
    "df_pisa_clean.info()"
   ]
  },
  {
   "cell_type": "code",
   "execution_count": 121,
   "metadata": {},
   "outputs": [
    {
     "data": {
      "text/html": [
       "<div>\n",
       "<style scoped>\n",
       "    .dataframe tbody tr th:only-of-type {\n",
       "        vertical-align: middle;\n",
       "    }\n",
       "\n",
       "    .dataframe tbody tr th {\n",
       "        vertical-align: top;\n",
       "    }\n",
       "\n",
       "    .dataframe thead th {\n",
       "        text-align: right;\n",
       "    }\n",
       "</style>\n",
       "<table border=\"1\" class=\"dataframe\">\n",
       "  <thead>\n",
       "    <tr style=\"text-align: right;\">\n",
       "      <th></th>\n",
       "      <th>country</th>\n",
       "      <th>student_id</th>\n",
       "      <th>gender</th>\n",
       "      <th>mother_at_home</th>\n",
       "      <th>father_at_home</th>\n",
       "      <th>mother_grade</th>\n",
       "      <th>mother_job</th>\n",
       "      <th>father_grade</th>\n",
       "      <th>father_job</th>\n",
       "      <th>internet</th>\n",
       "      <th>textbook</th>\n",
       "      <th>age</th>\n",
       "      <th>math</th>\n",
       "      <th>reading</th>\n",
       "      <th>science</th>\n",
       "      <th>total</th>\n",
       "    </tr>\n",
       "  </thead>\n",
       "  <tbody>\n",
       "    <tr>\n",
       "      <th>0</th>\n",
       "      <td>Albania</td>\n",
       "      <td>1</td>\n",
       "      <td>Female</td>\n",
       "      <td>Yes</td>\n",
       "      <td>Yes</td>\n",
       "      <td>ISCED 3A</td>\n",
       "      <td>others</td>\n",
       "      <td>ISCED 3A</td>\n",
       "      <td>part-time</td>\n",
       "      <td>No</td>\n",
       "      <td>Yes</td>\n",
       "      <td>16.17</td>\n",
       "      <td>366.18634</td>\n",
       "      <td>261.01424</td>\n",
       "      <td>371.91348</td>\n",
       "      <td>333.038020</td>\n",
       "    </tr>\n",
       "    <tr>\n",
       "      <th>1</th>\n",
       "      <td>Albania</td>\n",
       "      <td>2</td>\n",
       "      <td>Female</td>\n",
       "      <td>Yes</td>\n",
       "      <td>Yes</td>\n",
       "      <td>ISCED 3A</td>\n",
       "      <td>full-time</td>\n",
       "      <td>ISCED 3A</td>\n",
       "      <td>full-time</td>\n",
       "      <td>Yes</td>\n",
       "      <td>Yes</td>\n",
       "      <td>16.17</td>\n",
       "      <td>470.56396</td>\n",
       "      <td>384.68832</td>\n",
       "      <td>478.12382</td>\n",
       "      <td>444.458700</td>\n",
       "    </tr>\n",
       "    <tr>\n",
       "      <th>2</th>\n",
       "      <td>Albania</td>\n",
       "      <td>3</td>\n",
       "      <td>Female</td>\n",
       "      <td>Yes</td>\n",
       "      <td>Yes</td>\n",
       "      <td>ISCED 3B-3C</td>\n",
       "      <td>full-time</td>\n",
       "      <td>ISCED 3A</td>\n",
       "      <td>full-time</td>\n",
       "      <td>Yes</td>\n",
       "      <td>Yes</td>\n",
       "      <td>15.58</td>\n",
       "      <td>505.53824</td>\n",
       "      <td>405.18154</td>\n",
       "      <td>486.60946</td>\n",
       "      <td>465.776413</td>\n",
       "    </tr>\n",
       "    <tr>\n",
       "      <th>3</th>\n",
       "      <td>Albania</td>\n",
       "      <td>4</td>\n",
       "      <td>Female</td>\n",
       "      <td>Yes</td>\n",
       "      <td>Yes</td>\n",
       "      <td>ISCED 3B-3C</td>\n",
       "      <td>full-time</td>\n",
       "      <td>ISCED 3A</td>\n",
       "      <td>full-time</td>\n",
       "      <td>Yes</td>\n",
       "      <td>Yes</td>\n",
       "      <td>15.67</td>\n",
       "      <td>449.45476</td>\n",
       "      <td>477.46376</td>\n",
       "      <td>453.97240</td>\n",
       "      <td>460.296973</td>\n",
       "    </tr>\n",
       "    <tr>\n",
       "      <th>4</th>\n",
       "      <td>Albania</td>\n",
       "      <td>5</td>\n",
       "      <td>Female</td>\n",
       "      <td>Yes</td>\n",
       "      <td>Yes</td>\n",
       "      <td>incomplete ISCED 1</td>\n",
       "      <td>part-time</td>\n",
       "      <td>ISCED 3B-3C</td>\n",
       "      <td>part-time</td>\n",
       "      <td>Yes</td>\n",
       "      <td>Yes</td>\n",
       "      <td>15.50</td>\n",
       "      <td>385.50398</td>\n",
       "      <td>256.01010</td>\n",
       "      <td>367.15778</td>\n",
       "      <td>336.223953</td>\n",
       "    </tr>\n",
       "  </tbody>\n",
       "</table>\n",
       "</div>"
      ],
      "text/plain": [
       "   country  student_id  gender mother_at_home father_at_home  \\\n",
       "0  Albania           1  Female            Yes            Yes   \n",
       "1  Albania           2  Female            Yes            Yes   \n",
       "2  Albania           3  Female            Yes            Yes   \n",
       "3  Albania           4  Female            Yes            Yes   \n",
       "4  Albania           5  Female            Yes            Yes   \n",
       "\n",
       "         mother_grade mother_job father_grade father_job internet textbook  \\\n",
       "0            ISCED 3A     others     ISCED 3A  part-time       No      Yes   \n",
       "1            ISCED 3A  full-time     ISCED 3A  full-time      Yes      Yes   \n",
       "2         ISCED 3B-3C  full-time     ISCED 3A  full-time      Yes      Yes   \n",
       "3         ISCED 3B-3C  full-time     ISCED 3A  full-time      Yes      Yes   \n",
       "4  incomplete ISCED 1  part-time  ISCED 3B-3C  part-time      Yes      Yes   \n",
       "\n",
       "     age       math    reading    science       total  \n",
       "0  16.17  366.18634  261.01424  371.91348  333.038020  \n",
       "1  16.17  470.56396  384.68832  478.12382  444.458700  \n",
       "2  15.58  505.53824  405.18154  486.60946  465.776413  \n",
       "3  15.67  449.45476  477.46376  453.97240  460.296973  \n",
       "4  15.50  385.50398  256.01010  367.15778  336.223953  "
      ]
     },
     "execution_count": 121,
     "metadata": {},
     "output_type": "execute_result"
    }
   ],
   "source": [
    "df_pisa_clean.head()"
   ]
  },
  {
   "cell_type": "code",
   "execution_count": 378,
   "metadata": {},
   "outputs": [],
   "source": [
    "df_pisa_clean.to_csv('df_pisa_clean.csv', index=False)"
   ]
  },
  {
   "cell_type": "markdown",
   "metadata": {},
   "source": [
    "### What is the structure of your dataset?\n",
    "\n",
    "> the data structure is very wide, has consideration for many many cases and factors such as job of the father, job for mother, every aspect of living details like if child got a separte room, type of electornic devices, and so much more. Such details seems to have purposes beyod  the objectives of the project, and need deep analysis for optimal use, and probably other aspect which i am not aware of. \n",
    "\n",
    "### What is/are the main feature(s) of interest in your dataset?\n",
    "\n",
    "> Main aspect of my interest is math, science, and reading. this is where i will focus my analysis on.\n",
    "\n",
    "### What features in the dataset do you think will help support your investigation into your feature(s) of interest?\n",
    "\n",
    "> Math, science, and reading each has five separate scores. i have used the mean for each as a separate column. this new value will be used by focus my analysis on."
   ]
  },
  {
   "cell_type": "markdown",
   "metadata": {},
   "source": [
    "## Univariate Exploration\n",
    "\n",
    "> In this section, investigate distributions of individual variables. If\n",
    "you see unusual points or outliers, take a deeper look to clean things up\n",
    "and prepare yourself to look at relationships between variables."
   ]
  },
  {
   "cell_type": "markdown",
   "metadata": {},
   "source": [
    "> Make sure that, after every plot or related series of plots, that you\n",
    "include a Markdown cell with comments about what you observed, and what\n",
    "you plan on investigating next."
   ]
  },
  {
   "cell_type": "code",
   "execution_count": 122,
   "metadata": {},
   "outputs": [
    {
     "data": {
      "text/html": [
       "<div>\n",
       "<style scoped>\n",
       "    .dataframe tbody tr th:only-of-type {\n",
       "        vertical-align: middle;\n",
       "    }\n",
       "\n",
       "    .dataframe tbody tr th {\n",
       "        vertical-align: top;\n",
       "    }\n",
       "\n",
       "    .dataframe thead th {\n",
       "        text-align: right;\n",
       "    }\n",
       "</style>\n",
       "<table border=\"1\" class=\"dataframe\">\n",
       "  <thead>\n",
       "    <tr style=\"text-align: right;\">\n",
       "      <th></th>\n",
       "      <th>math</th>\n",
       "      <th>reading</th>\n",
       "      <th>science</th>\n",
       "      <th>total</th>\n",
       "    </tr>\n",
       "  </thead>\n",
       "  <tbody>\n",
       "    <tr>\n",
       "      <th>count</th>\n",
       "      <td>485490.000000</td>\n",
       "      <td>485490.000000</td>\n",
       "      <td>485490.000000</td>\n",
       "      <td>485490.000000</td>\n",
       "    </tr>\n",
       "    <tr>\n",
       "      <th>mean</th>\n",
       "      <td>469.651234</td>\n",
       "      <td>472.006964</td>\n",
       "      <td>475.808094</td>\n",
       "      <td>472.488764</td>\n",
       "    </tr>\n",
       "    <tr>\n",
       "      <th>std</th>\n",
       "      <td>100.786610</td>\n",
       "      <td>98.863310</td>\n",
       "      <td>97.998470</td>\n",
       "      <td>96.036271</td>\n",
       "    </tr>\n",
       "    <tr>\n",
       "      <th>min</th>\n",
       "      <td>54.767080</td>\n",
       "      <td>6.445400</td>\n",
       "      <td>25.158540</td>\n",
       "      <td>77.114593</td>\n",
       "    </tr>\n",
       "    <tr>\n",
       "      <th>25%</th>\n",
       "      <td>396.019620</td>\n",
       "      <td>405.044200</td>\n",
       "      <td>405.762800</td>\n",
       "      <td>403.992595</td>\n",
       "    </tr>\n",
       "    <tr>\n",
       "      <th>50%</th>\n",
       "      <td>465.734520</td>\n",
       "      <td>475.477980</td>\n",
       "      <td>475.512860</td>\n",
       "      <td>472.046460</td>\n",
       "    </tr>\n",
       "    <tr>\n",
       "      <th>75%</th>\n",
       "      <td>540.123060</td>\n",
       "      <td>542.831195</td>\n",
       "      <td>546.381920</td>\n",
       "      <td>541.455700</td>\n",
       "    </tr>\n",
       "    <tr>\n",
       "      <th>max</th>\n",
       "      <td>903.107960</td>\n",
       "      <td>849.359740</td>\n",
       "      <td>857.832900</td>\n",
       "      <td>826.592027</td>\n",
       "    </tr>\n",
       "  </tbody>\n",
       "</table>\n",
       "</div>"
      ],
      "text/plain": [
       "                math        reading        science          total\n",
       "count  485490.000000  485490.000000  485490.000000  485490.000000\n",
       "mean      469.651234     472.006964     475.808094     472.488764\n",
       "std       100.786610      98.863310      97.998470      96.036271\n",
       "min        54.767080       6.445400      25.158540      77.114593\n",
       "25%       396.019620     405.044200     405.762800     403.992595\n",
       "50%       465.734520     475.477980     475.512860     472.046460\n",
       "75%       540.123060     542.831195     546.381920     541.455700\n",
       "max       903.107960     849.359740     857.832900     826.592027"
      ]
     },
     "execution_count": 122,
     "metadata": {},
     "output_type": "execute_result"
    }
   ],
   "source": [
    "df_pisa_clean[['math','reading','science','total']].describe()"
   ]
  },
  {
   "cell_type": "code",
   "execution_count": 123,
   "metadata": {},
   "outputs": [
    {
     "data": {
      "image/png": "[encoded data removed]",
      "text/plain": [
       "<Figure size 2160x576 with 3 Axes>"
      ]
     },
     "metadata": {
      "needs_background": "light"
     },
     "output_type": "display_data"
    }
   ],
   "source": [
    "math_bins=np.arange(50,df_pisa_clean['math'].max()+10,10)\n",
    "reading_bins=np.arange(5,df_pisa_clean['reading'].max()+10,10)\n",
    "science_bins=np.arange(20,df_pisa_clean['science'].max()+10,10)\n",
    "\n",
    "plt.figure(figsize=(30,8))\n",
    "plt.subplot(1, 3, 1)\n",
    "plt.hist(df_pisa_clean['math'],bins=math_bins);\n",
    "plt.title('Mathematics average',fontsize=30)\n",
    "\n",
    "\n",
    "plt.subplot(1, 3, 2)\n",
    "plt.hist(df_pisa_clean['reading'],bins=reading_bins);\n",
    "plt.title('Reading average',fontsize=30)\n",
    "\n",
    "\n",
    "plt.subplot(1, 3, 3)\n",
    "plt.hist(df_pisa_clean['science'],bins=science_bins);\n",
    "plt.title('Science average',fontsize=30);\n",
    "\n"
   ]
  },
  {
   "cell_type": "markdown",
   "metadata": {},
   "source": [
    "1. All seems like normal ditribution\n",
    "2. further investigation needs to be done considering country, and gender as well as other categorica variables like internet, mother/father grade, job, etc.."
   ]
  },
  {
   "cell_type": "code",
   "execution_count": 124,
   "metadata": {},
   "outputs": [
    {
     "data": {
      "image/png": "[encoded data removed]",
      "text/plain": [
       "<Figure size 2160x576 with 4 Axes>"
      ]
     },
     "metadata": {
      "needs_background": "light"
     },
     "output_type": "display_data"
    }
   ],
   "source": [
    "plt.figure(figsize=(30,8))\n",
    "plt.subplot(1, 4, 1)\n",
    "sb.boxplot(y=df_pisa_clean['math'])\n",
    "plt.title('Mathematics average',fontsize=30)\n",
    "\n",
    "\n",
    "plt.subplot(1, 4, 2)\n",
    "sb.boxplot(y=df_pisa_clean['reading'])\n",
    "plt.title('Reading average',fontsize=30)\n",
    "\n",
    "\n",
    "plt.subplot(1, 4, 3)\n",
    "sb.boxplot(y=df_pisa_clean['science'])\n",
    "plt.title('Science average',fontsize=30);\n",
    "\n",
    "plt.subplot(1, 4, 4)\n",
    "sb.boxplot(y=df_pisa_clean['total'])\n",
    "plt.title('total average',fontsize=30);\n",
    "\n"
   ]
  },
  {
   "cell_type": "code",
   "execution_count": 125,
   "metadata": {},
   "outputs": [
    {
     "data": {
      "text/plain": [
       "(array([0, 1, 2, 3, 4, 5]), <a list of 6 Text xticklabel objects>)"
      ]
     },
     "execution_count": 125,
     "metadata": {},
     "output_type": "execute_result"
    },
    {
     "data": {
      "image/png": "[encoded data removed]",
      "text/plain": [
       "<Figure size 1296x288 with 2 Axes>"
      ]
     },
     "metadata": {
      "needs_background": "light"
     },
     "output_type": "display_data"
    }
   ],
   "source": [
    "color=sb.color_palette()[0]\n",
    "plt.figure(figsize=(18,4))\n",
    "\n",
    "plt.subplot(1, 2, 1)\n",
    "sb.countplot(data=df_pisa_clean,x='mother_grade',color=color)\n",
    "plt.title('bar chart for mothers highest grades counts')\n",
    "plt.xticks(rotation=20)\n",
    "\n",
    "plt.subplot(1, 2, 2)\n",
    "sb.countplot(data=df_pisa_clean,x='father_grade',color=color)\n",
    "plt.title('bar chart for fathers highest grades counts')\n",
    "plt.xticks(rotation=20)"
   ]
  },
  {
   "cell_type": "code",
   "execution_count": 126,
   "metadata": {},
   "outputs": [
    {
     "data": {
      "image/png": "[encoded data removed]",
      "text/plain": [
       "<Figure size 1296x288 with 2 Axes>"
      ]
     },
     "metadata": {
      "needs_background": "light"
     },
     "output_type": "display_data"
    }
   ],
   "source": [
    "color=sb.color_palette()[0]\n",
    "plt.figure(figsize=(18,4))\n",
    "\n",
    "plt.subplot(1, 2, 1)\n",
    "sb.countplot(data=df_pisa_clean,x='mother_job',color=color);\n",
    "plt.title('bar chart for mothers jobs counts');\n",
    "plt.xticks(rotation=20);\n",
    "\n",
    "plt.subplot(1, 2, 2)\n",
    "sb.countplot(data=df_pisa_clean,x='father_job',color=color);\n",
    "plt.title('bar chart for fathers jobs counts');\n",
    "plt.xticks(rotation=20);"
   ]
  },
  {
   "cell_type": "code",
   "execution_count": 127,
   "metadata": {},
   "outputs": [
    {
     "data": {
      "image/png": "[encoded data removed]",
      "text/plain": [
       "<Figure size 1296x288 with 2 Axes>"
      ]
     },
     "metadata": {
      "needs_background": "light"
     },
     "output_type": "display_data"
    }
   ],
   "source": [
    "color=sb.color_palette()[0]\n",
    "plt.figure(figsize=(18,4))\n",
    "\n",
    "plt.subplot(1, 2, 1)\n",
    "sb.countplot(data=df_pisa_clean,x='internet',color=color);\n",
    "plt.title('bar chart for availability of internet');\n",
    "plt.xticks(rotation=20);\n",
    "\n",
    "plt.subplot(1, 2, 2)\n",
    "sb.countplot(data=df_pisa_clean,x='textbook',color=color);\n",
    "plt.title('bar chart for availability of textbooks');\n",
    "plt.xticks(rotation=20);"
   ]
  },
  {
   "cell_type": "code",
   "execution_count": 128,
   "metadata": {},
   "outputs": [
    {
     "data": {
      "image/png": "[encoded data removed]",
      "text/plain": [
       "<Figure size 1296x288 with 2 Axes>"
      ]
     },
     "metadata": {
      "needs_background": "light"
     },
     "output_type": "display_data"
    }
   ],
   "source": [
    "color=sb.color_palette()[0]\n",
    "plt.figure(figsize=(18,4))\n",
    "\n",
    "plt.subplot(1, 2, 1)\n",
    "sb.countplot(data=df_pisa_clean,x='mother_at_home',color=color);\n",
    "plt.title('bar chart for mothers at home counts');\n",
    "plt.xticks(rotation=20);\n",
    "\n",
    "plt.subplot(1, 2, 2)\n",
    "sb.countplot(data=df_pisa_clean,x='father_at_home',color=color);\n",
    "plt.title('bar chart for fathers at home counts');\n",
    "plt.xticks(rotation=20);"
   ]
  },
  {
   "cell_type": "markdown",
   "metadata": {},
   "source": [
    "1. using boxplot we notice big range of outliars, this is also clear when we used the describe method for the three columns (math, reading, and science)\n",
    "2. math average seems to have the lowest median\n",
    "3. conclusion, we need to investigate data using bivariant exploration on country, gender, age, and other variables"
   ]
  },
  {
   "cell_type": "markdown",
   "metadata": {},
   "source": [
    "### Discuss the distribution(s) of your variable(s) of interest. Were there any unusual points? Did you need to perform any transformations?\n",
    "\n",
    "> using the average value along gives normal distribution, but there are many outliars which indicates variations based on other factors\n",
    "\n",
    "### Of the features you investigated, were there any unusual distributions? Did you perform any operations on the data to tidy, adjust, or change the form of the data? If so, why did you do this?\n",
    "\n",
    "> i used the mean for the three most important features math, reading, science to analyze the data"
   ]
  },
  {
   "cell_type": "markdown",
   "metadata": {},
   "source": [
    "## Bivariate Exploration\n",
    "\n",
    "> In this section, investigate relationships between pairs of variables in your\n",
    "data. Make sure the variables that you cover here have been introduced in some\n",
    "fashion in the previous section (univariate exploration)."
   ]
  },
  {
   "cell_type": "markdown",
   "metadata": {},
   "source": [
    "#### check for math, reading, science average based on counties to find any relation between top permers and countries"
   ]
  },
  {
   "cell_type": "code",
   "execution_count": 180,
   "metadata": {},
   "outputs": [],
   "source": [
    "df_pisa_countries = df_pisa_clean.groupby('country')[['math','reading','science','total']].mean()"
   ]
  },
  {
   "cell_type": "code",
   "execution_count": 184,
   "metadata": {},
   "outputs": [
    {
     "data": {
      "text/html": [
       "<div>\n",
       "<style scoped>\n",
       "    .dataframe tbody tr th:only-of-type {\n",
       "        vertical-align: middle;\n",
       "    }\n",
       "\n",
       "    .dataframe tbody tr th {\n",
       "        vertical-align: top;\n",
       "    }\n",
       "\n",
       "    .dataframe thead th {\n",
       "        text-align: right;\n",
       "    }\n",
       "</style>\n",
       "<table border=\"1\" class=\"dataframe\">\n",
       "  <thead>\n",
       "    <tr style=\"text-align: right;\">\n",
       "      <th></th>\n",
       "      <th>math</th>\n",
       "      <th>reading</th>\n",
       "      <th>science</th>\n",
       "      <th>total</th>\n",
       "    </tr>\n",
       "    <tr>\n",
       "      <th>country</th>\n",
       "      <th></th>\n",
       "      <th></th>\n",
       "      <th></th>\n",
       "      <th></th>\n",
       "    </tr>\n",
       "  </thead>\n",
       "  <tbody>\n",
       "    <tr>\n",
       "      <th>China-Shanghai</th>\n",
       "      <td>611.438933</td>\n",
       "      <td>568.629233</td>\n",
       "      <td>579.556540</td>\n",
       "      <td>586.541569</td>\n",
       "    </tr>\n",
       "    <tr>\n",
       "      <th>Hong Kong-China</th>\n",
       "      <td>561.052123</td>\n",
       "      <td>544.521735</td>\n",
       "      <td>554.986433</td>\n",
       "      <td>553.520097</td>\n",
       "    </tr>\n",
       "    <tr>\n",
       "      <th>Singapore</th>\n",
       "      <td>568.546974</td>\n",
       "      <td>537.742138</td>\n",
       "      <td>546.822920</td>\n",
       "      <td>551.037344</td>\n",
       "    </tr>\n",
       "    <tr>\n",
       "      <th>Korea</th>\n",
       "      <td>553.752034</td>\n",
       "      <td>535.805221</td>\n",
       "      <td>537.831998</td>\n",
       "      <td>542.463084</td>\n",
       "    </tr>\n",
       "    <tr>\n",
       "      <th>Japan</th>\n",
       "      <td>535.925248</td>\n",
       "      <td>537.722484</td>\n",
       "      <td>546.413455</td>\n",
       "      <td>540.020395</td>\n",
       "    </tr>\n",
       "    <tr>\n",
       "      <th>Chinese Taipei</th>\n",
       "      <td>558.312010</td>\n",
       "      <td>522.185472</td>\n",
       "      <td>522.356935</td>\n",
       "      <td>534.284806</td>\n",
       "    </tr>\n",
       "    <tr>\n",
       "      <th>Liechtenstein</th>\n",
       "      <td>538.886608</td>\n",
       "      <td>518.275718</td>\n",
       "      <td>527.598522</td>\n",
       "      <td>528.253616</td>\n",
       "    </tr>\n",
       "    <tr>\n",
       "      <th>Estonia</th>\n",
       "      <td>522.340803</td>\n",
       "      <td>518.208090</td>\n",
       "      <td>543.241849</td>\n",
       "      <td>527.930247</td>\n",
       "    </tr>\n",
       "    <tr>\n",
       "      <th>Poland</th>\n",
       "      <td>520.522589</td>\n",
       "      <td>520.763584</td>\n",
       "      <td>528.245169</td>\n",
       "      <td>523.177114</td>\n",
       "    </tr>\n",
       "    <tr>\n",
       "      <th>Macao-China</th>\n",
       "      <td>538.319791</td>\n",
       "      <td>509.095969</td>\n",
       "      <td>520.690411</td>\n",
       "      <td>522.702057</td>\n",
       "    </tr>\n",
       "  </tbody>\n",
       "</table>\n",
       "</div>"
      ],
      "text/plain": [
       "                       math     reading     science       total\n",
       "country                                                        \n",
       "China-Shanghai   611.438933  568.629233  579.556540  586.541569\n",
       "Hong Kong-China  561.052123  544.521735  554.986433  553.520097\n",
       "Singapore        568.546974  537.742138  546.822920  551.037344\n",
       "Korea            553.752034  535.805221  537.831998  542.463084\n",
       "Japan            535.925248  537.722484  546.413455  540.020395\n",
       "Chinese Taipei   558.312010  522.185472  522.356935  534.284806\n",
       "Liechtenstein    538.886608  518.275718  527.598522  528.253616\n",
       "Estonia          522.340803  518.208090  543.241849  527.930247\n",
       "Poland           520.522589  520.763584  528.245169  523.177114\n",
       "Macao-China      538.319791  509.095969  520.690411  522.702057"
      ]
     },
     "execution_count": 184,
     "metadata": {},
     "output_type": "execute_result"
    }
   ],
   "source": [
    "df_pisa_countries.sort_values(by='total', ascending=False).head(10)"
   ]
  },
  {
   "cell_type": "code",
   "execution_count": 185,
   "metadata": {},
   "outputs": [
    {
     "data": {
      "text/html": [
       "<div>\n",
       "<style scoped>\n",
       "    .dataframe tbody tr th:only-of-type {\n",
       "        vertical-align: middle;\n",
       "    }\n",
       "\n",
       "    .dataframe tbody tr th {\n",
       "        vertical-align: top;\n",
       "    }\n",
       "\n",
       "    .dataframe thead th {\n",
       "        text-align: right;\n",
       "    }\n",
       "</style>\n",
       "<table border=\"1\" class=\"dataframe\">\n",
       "  <thead>\n",
       "    <tr style=\"text-align: right;\">\n",
       "      <th></th>\n",
       "      <th>math</th>\n",
       "      <th>reading</th>\n",
       "      <th>science</th>\n",
       "      <th>total</th>\n",
       "    </tr>\n",
       "    <tr>\n",
       "      <th>country</th>\n",
       "      <th></th>\n",
       "      <th></th>\n",
       "      <th></th>\n",
       "      <th></th>\n",
       "    </tr>\n",
       "  </thead>\n",
       "  <tbody>\n",
       "    <tr>\n",
       "      <th>Montenegro</th>\n",
       "      <td>406.728296</td>\n",
       "      <td>419.983824</td>\n",
       "      <td>408.197858</td>\n",
       "      <td>411.636659</td>\n",
       "    </tr>\n",
       "    <tr>\n",
       "      <th>Argentina</th>\n",
       "      <td>395.635711</td>\n",
       "      <td>403.596060</td>\n",
       "      <td>410.478404</td>\n",
       "      <td>403.236725</td>\n",
       "    </tr>\n",
       "    <tr>\n",
       "      <th>Colombia</th>\n",
       "      <td>385.972409</td>\n",
       "      <td>414.221547</td>\n",
       "      <td>408.862431</td>\n",
       "      <td>403.018796</td>\n",
       "    </tr>\n",
       "    <tr>\n",
       "      <th>Albania</th>\n",
       "      <td>394.878912</td>\n",
       "      <td>396.250245</td>\n",
       "      <td>398.916529</td>\n",
       "      <td>396.681895</td>\n",
       "    </tr>\n",
       "    <tr>\n",
       "      <th>Tunisia</th>\n",
       "      <td>387.434260</td>\n",
       "      <td>403.614273</td>\n",
       "      <td>397.831316</td>\n",
       "      <td>396.293283</td>\n",
       "    </tr>\n",
       "    <tr>\n",
       "      <th>Jordan</th>\n",
       "      <td>382.739077</td>\n",
       "      <td>396.514701</td>\n",
       "      <td>404.795878</td>\n",
       "      <td>394.683219</td>\n",
       "    </tr>\n",
       "    <tr>\n",
       "      <th>Brazil</th>\n",
       "      <td>382.547146</td>\n",
       "      <td>400.421704</td>\n",
       "      <td>395.513221</td>\n",
       "      <td>392.827357</td>\n",
       "    </tr>\n",
       "    <tr>\n",
       "      <th>Indonesia</th>\n",
       "      <td>375.621968</td>\n",
       "      <td>397.114815</td>\n",
       "      <td>382.744804</td>\n",
       "      <td>385.160529</td>\n",
       "    </tr>\n",
       "    <tr>\n",
       "      <th>Qatar</th>\n",
       "      <td>376.339232</td>\n",
       "      <td>387.407142</td>\n",
       "      <td>383.531664</td>\n",
       "      <td>382.426012</td>\n",
       "    </tr>\n",
       "    <tr>\n",
       "      <th>Peru</th>\n",
       "      <td>367.859676</td>\n",
       "      <td>384.453116</td>\n",
       "      <td>373.440303</td>\n",
       "      <td>375.251032</td>\n",
       "    </tr>\n",
       "  </tbody>\n",
       "</table>\n",
       "</div>"
      ],
      "text/plain": [
       "                  math     reading     science       total\n",
       "country                                                   \n",
       "Montenegro  406.728296  419.983824  408.197858  411.636659\n",
       "Argentina   395.635711  403.596060  410.478404  403.236725\n",
       "Colombia    385.972409  414.221547  408.862431  403.018796\n",
       "Albania     394.878912  396.250245  398.916529  396.681895\n",
       "Tunisia     387.434260  403.614273  397.831316  396.293283\n",
       "Jordan      382.739077  396.514701  404.795878  394.683219\n",
       "Brazil      382.547146  400.421704  395.513221  392.827357\n",
       "Indonesia   375.621968  397.114815  382.744804  385.160529\n",
       "Qatar       376.339232  387.407142  383.531664  382.426012\n",
       "Peru        367.859676  384.453116  373.440303  375.251032"
      ]
     },
     "execution_count": 185,
     "metadata": {},
     "output_type": "execute_result"
    }
   ],
   "source": [
    "df_pisa_countries.sort_values(by='total', ascending=False).tail(10)"
   ]
  },
  {
   "cell_type": "markdown",
   "metadata": {},
   "source": [
    "1. Around 7 out of 10 top performer countries are in Far east, remaining 3 in Europe\n",
    "2. low performing countries range from south america\n",
    "3. more investigation on total average"
   ]
  },
  {
   "cell_type": "code",
   "execution_count": 226,
   "metadata": {},
   "outputs": [
    {
     "data": {
      "image/png": "[encoded data removed]",
      "text/plain": [
       "<Figure size 1440x2160 with 1 Axes>"
      ]
     },
     "metadata": {
      "needs_background": "light"
     },
     "output_type": "display_data"
    }
   ],
   "source": [
    "order= df_pisa_clean['country'].value_counts().index\n",
    "plt.figure(figsize=[20,30])\n",
    "sb.countplot(data=df_pisa_clean,y='country',order=order)\n",
    "plt.title('Number of students per country',size=20);"
   ]
  },
  {
   "cell_type": "code",
   "execution_count": 206,
   "metadata": {},
   "outputs": [
    {
     "data": {
      "text/html": [
       "<div>\n",
       "<style scoped>\n",
       "    .dataframe tbody tr th:only-of-type {\n",
       "        vertical-align: middle;\n",
       "    }\n",
       "\n",
       "    .dataframe tbody tr th {\n",
       "        vertical-align: top;\n",
       "    }\n",
       "\n",
       "    .dataframe thead th {\n",
       "        text-align: right;\n",
       "    }\n",
       "</style>\n",
       "<table border=\"1\" class=\"dataframe\">\n",
       "  <thead>\n",
       "    <tr style=\"text-align: right;\">\n",
       "      <th></th>\n",
       "      <th>gender</th>\n",
       "      <th>math</th>\n",
       "      <th>reading</th>\n",
       "      <th>science</th>\n",
       "      <th>total</th>\n",
       "    </tr>\n",
       "  </thead>\n",
       "  <tbody>\n",
       "    <tr>\n",
       "      <th>0</th>\n",
       "      <td>Female</td>\n",
       "      <td>464.060962</td>\n",
       "      <td>489.719710</td>\n",
       "      <td>475.348653</td>\n",
       "      <td>476.376442</td>\n",
       "    </tr>\n",
       "    <tr>\n",
       "      <th>1</th>\n",
       "      <td>Male</td>\n",
       "      <td>475.349347</td>\n",
       "      <td>453.952526</td>\n",
       "      <td>476.276398</td>\n",
       "      <td>468.526090</td>\n",
       "    </tr>\n",
       "  </tbody>\n",
       "</table>\n",
       "</div>"
      ],
      "text/plain": [
       "   gender        math     reading     science       total\n",
       "0  Female  464.060962  489.719710  475.348653  476.376442\n",
       "1    Male  475.349347  453.952526  476.276398  468.526090"
      ]
     },
     "execution_count": 206,
     "metadata": {},
     "output_type": "execute_result"
    }
   ],
   "source": [
    "df_pisa_gender = df_pisa_clean.groupby('gender')[['math','reading','science','total']].mean().reset_index()\n",
    "df_pisa_gender"
   ]
  },
  {
   "cell_type": "code",
   "execution_count": 386,
   "metadata": {},
   "outputs": [
    {
     "data": {
      "text/plain": [
       "35.76719000000003"
      ]
     },
     "execution_count": 386,
     "metadata": {},
     "output_type": "execute_result"
    }
   ],
   "source": [
    "489.719710-453.95252"
   ]
  },
  {
   "cell_type": "code",
   "execution_count": 383,
   "metadata": {},
   "outputs": [
    {
     "data": {
      "text/html": [
       "<div>\n",
       "<style scoped>\n",
       "    .dataframe tbody tr th:only-of-type {\n",
       "        vertical-align: middle;\n",
       "    }\n",
       "\n",
       "    .dataframe tbody tr th {\n",
       "        vertical-align: top;\n",
       "    }\n",
       "\n",
       "    .dataframe thead th {\n",
       "        text-align: right;\n",
       "    }\n",
       "</style>\n",
       "<table border=\"1\" class=\"dataframe\">\n",
       "  <thead>\n",
       "    <tr style=\"text-align: right;\">\n",
       "      <th></th>\n",
       "      <th>gender</th>\n",
       "      <th>variable</th>\n",
       "      <th>value</th>\n",
       "    </tr>\n",
       "  </thead>\n",
       "  <tbody>\n",
       "    <tr>\n",
       "      <th>0</th>\n",
       "      <td>Female</td>\n",
       "      <td>math</td>\n",
       "      <td>464.060962</td>\n",
       "    </tr>\n",
       "    <tr>\n",
       "      <th>1</th>\n",
       "      <td>Male</td>\n",
       "      <td>math</td>\n",
       "      <td>475.349347</td>\n",
       "    </tr>\n",
       "    <tr>\n",
       "      <th>2</th>\n",
       "      <td>Female</td>\n",
       "      <td>reading</td>\n",
       "      <td>489.719710</td>\n",
       "    </tr>\n",
       "    <tr>\n",
       "      <th>3</th>\n",
       "      <td>Male</td>\n",
       "      <td>reading</td>\n",
       "      <td>453.952526</td>\n",
       "    </tr>\n",
       "    <tr>\n",
       "      <th>4</th>\n",
       "      <td>Female</td>\n",
       "      <td>science</td>\n",
       "      <td>475.348653</td>\n",
       "    </tr>\n",
       "    <tr>\n",
       "      <th>5</th>\n",
       "      <td>Male</td>\n",
       "      <td>science</td>\n",
       "      <td>476.276398</td>\n",
       "    </tr>\n",
       "    <tr>\n",
       "      <th>6</th>\n",
       "      <td>Female</td>\n",
       "      <td>total</td>\n",
       "      <td>476.376442</td>\n",
       "    </tr>\n",
       "    <tr>\n",
       "      <th>7</th>\n",
       "      <td>Male</td>\n",
       "      <td>total</td>\n",
       "      <td>468.526090</td>\n",
       "    </tr>\n",
       "  </tbody>\n",
       "</table>\n",
       "</div>"
      ],
      "text/plain": [
       "   gender variable       value\n",
       "0  Female     math  464.060962\n",
       "1    Male     math  475.349347\n",
       "2  Female  reading  489.719710\n",
       "3    Male  reading  453.952526\n",
       "4  Female  science  475.348653\n",
       "5    Male  science  476.276398\n",
       "6  Female    total  476.376442\n",
       "7    Male    total  468.526090"
      ]
     },
     "execution_count": 383,
     "metadata": {},
     "output_type": "execute_result"
    }
   ],
   "source": [
    "df_pisa_gender_melt"
   ]
  },
  {
   "cell_type": "code",
   "execution_count": 382,
   "metadata": {},
   "outputs": [
    {
     "data": {
      "text/html": [
       "<div>\n",
       "<style scoped>\n",
       "    .dataframe tbody tr th:only-of-type {\n",
       "        vertical-align: middle;\n",
       "    }\n",
       "\n",
       "    .dataframe tbody tr th {\n",
       "        vertical-align: top;\n",
       "    }\n",
       "\n",
       "    .dataframe thead th {\n",
       "        text-align: right;\n",
       "    }\n",
       "</style>\n",
       "<table border=\"1\" class=\"dataframe\">\n",
       "  <thead>\n",
       "    <tr style=\"text-align: right;\">\n",
       "      <th></th>\n",
       "      <th>gender</th>\n",
       "      <th>variable</th>\n",
       "      <th>value</th>\n",
       "    </tr>\n",
       "  </thead>\n",
       "  <tbody>\n",
       "  </tbody>\n",
       "</table>\n",
       "</div>"
      ],
      "text/plain": [
       "Empty DataFrame\n",
       "Columns: [gender, variable, value]\n",
       "Index: []"
      ]
     },
     "execution_count": 382,
     "metadata": {},
     "output_type": "execute_result"
    }
   ],
   "source": [
    "df_pisa_gender_melt[(df_pisa_gender_melt['variable']=='reading')& (df_pisa_gender_melt['variable']=='Female')]"
   ]
  },
  {
   "cell_type": "code",
   "execution_count": 208,
   "metadata": {},
   "outputs": [
    {
     "data": {
      "text/plain": [
       "(400, 600)"
      ]
     },
     "execution_count": 208,
     "metadata": {},
     "output_type": "execute_result"
    },
    {
     "data": {
      "image/png": "[encoded data removed]",
      "text/plain": [
       "<Figure size 432x288 with 1 Axes>"
      ]
     },
     "metadata": {
      "needs_background": "light"
     },
     "output_type": "display_data"
    }
   ],
   "source": [
    "sb.barplot(data=df_pisa_gender_melt, x=\"variable\",y=\"value\",hue=\"gender\", color=sb.color_palette()[0])\n",
    "plt.ylim(400, 600)"
   ]
  },
  {
   "cell_type": "code",
   "execution_count": 205,
   "metadata": {},
   "outputs": [
    {
     "data": {
      "text/html": [
       "<div>\n",
       "<style scoped>\n",
       "    .dataframe tbody tr th:only-of-type {\n",
       "        vertical-align: middle;\n",
       "    }\n",
       "\n",
       "    .dataframe tbody tr th {\n",
       "        vertical-align: top;\n",
       "    }\n",
       "\n",
       "    .dataframe thead th {\n",
       "        text-align: right;\n",
       "    }\n",
       "</style>\n",
       "<table border=\"1\" class=\"dataframe\">\n",
       "  <thead>\n",
       "    <tr style=\"text-align: right;\">\n",
       "      <th></th>\n",
       "      <th>internet</th>\n",
       "      <th>math</th>\n",
       "      <th>reading</th>\n",
       "      <th>science</th>\n",
       "      <th>total</th>\n",
       "    </tr>\n",
       "  </thead>\n",
       "  <tbody>\n",
       "    <tr>\n",
       "      <th>0</th>\n",
       "      <td>No</td>\n",
       "      <td>400.018756</td>\n",
       "      <td>408.247075</td>\n",
       "      <td>409.686776</td>\n",
       "      <td>405.984202</td>\n",
       "    </tr>\n",
       "    <tr>\n",
       "      <th>1</th>\n",
       "      <td>Yes</td>\n",
       "      <td>484.814701</td>\n",
       "      <td>486.403139</td>\n",
       "      <td>490.411081</td>\n",
       "      <td>487.209640</td>\n",
       "    </tr>\n",
       "    <tr>\n",
       "      <th>2</th>\n",
       "      <td>unknown</td>\n",
       "      <td>376.823281</td>\n",
       "      <td>370.298152</td>\n",
       "      <td>380.993168</td>\n",
       "      <td>376.038200</td>\n",
       "    </tr>\n",
       "  </tbody>\n",
       "</table>\n",
       "</div>"
      ],
      "text/plain": [
       "  internet        math     reading     science       total\n",
       "0       No  400.018756  408.247075  409.686776  405.984202\n",
       "1      Yes  484.814701  486.403139  490.411081  487.209640\n",
       "2  unknown  376.823281  370.298152  380.993168  376.038200"
      ]
     },
     "execution_count": 205,
     "metadata": {},
     "output_type": "execute_result"
    }
   ],
   "source": [
    "df_pisa_internet = df_pisa_clean.groupby('internet')[['math','reading','science','total']].mean().reset_index()\n",
    "df_pisa_internet"
   ]
  },
  {
   "cell_type": "code",
   "execution_count": 210,
   "metadata": {},
   "outputs": [
    {
     "data": {
      "text/html": [
       "<div>\n",
       "<style scoped>\n",
       "    .dataframe tbody tr th:only-of-type {\n",
       "        vertical-align: middle;\n",
       "    }\n",
       "\n",
       "    .dataframe tbody tr th {\n",
       "        vertical-align: top;\n",
       "    }\n",
       "\n",
       "    .dataframe thead th {\n",
       "        text-align: right;\n",
       "    }\n",
       "</style>\n",
       "<table border=\"1\" class=\"dataframe\">\n",
       "  <thead>\n",
       "    <tr style=\"text-align: right;\">\n",
       "      <th></th>\n",
       "      <th>internet</th>\n",
       "      <th>variable</th>\n",
       "      <th>value</th>\n",
       "    </tr>\n",
       "  </thead>\n",
       "  <tbody>\n",
       "    <tr>\n",
       "      <th>0</th>\n",
       "      <td>No</td>\n",
       "      <td>math</td>\n",
       "      <td>400.018756</td>\n",
       "    </tr>\n",
       "    <tr>\n",
       "      <th>1</th>\n",
       "      <td>Yes</td>\n",
       "      <td>math</td>\n",
       "      <td>484.814701</td>\n",
       "    </tr>\n",
       "    <tr>\n",
       "      <th>2</th>\n",
       "      <td>unknown</td>\n",
       "      <td>math</td>\n",
       "      <td>376.823281</td>\n",
       "    </tr>\n",
       "    <tr>\n",
       "      <th>3</th>\n",
       "      <td>No</td>\n",
       "      <td>reading</td>\n",
       "      <td>408.247075</td>\n",
       "    </tr>\n",
       "    <tr>\n",
       "      <th>4</th>\n",
       "      <td>Yes</td>\n",
       "      <td>reading</td>\n",
       "      <td>486.403139</td>\n",
       "    </tr>\n",
       "    <tr>\n",
       "      <th>5</th>\n",
       "      <td>unknown</td>\n",
       "      <td>reading</td>\n",
       "      <td>370.298152</td>\n",
       "    </tr>\n",
       "    <tr>\n",
       "      <th>6</th>\n",
       "      <td>No</td>\n",
       "      <td>science</td>\n",
       "      <td>409.686776</td>\n",
       "    </tr>\n",
       "    <tr>\n",
       "      <th>7</th>\n",
       "      <td>Yes</td>\n",
       "      <td>science</td>\n",
       "      <td>490.411081</td>\n",
       "    </tr>\n",
       "    <tr>\n",
       "      <th>8</th>\n",
       "      <td>unknown</td>\n",
       "      <td>science</td>\n",
       "      <td>380.993168</td>\n",
       "    </tr>\n",
       "    <tr>\n",
       "      <th>9</th>\n",
       "      <td>No</td>\n",
       "      <td>total</td>\n",
       "      <td>405.984202</td>\n",
       "    </tr>\n",
       "    <tr>\n",
       "      <th>10</th>\n",
       "      <td>Yes</td>\n",
       "      <td>total</td>\n",
       "      <td>487.209640</td>\n",
       "    </tr>\n",
       "    <tr>\n",
       "      <th>11</th>\n",
       "      <td>unknown</td>\n",
       "      <td>total</td>\n",
       "      <td>376.038200</td>\n",
       "    </tr>\n",
       "  </tbody>\n",
       "</table>\n",
       "</div>"
      ],
      "text/plain": [
       "   internet variable       value\n",
       "0        No     math  400.018756\n",
       "1       Yes     math  484.814701\n",
       "2   unknown     math  376.823281\n",
       "3        No  reading  408.247075\n",
       "4       Yes  reading  486.403139\n",
       "5   unknown  reading  370.298152\n",
       "6        No  science  409.686776\n",
       "7       Yes  science  490.411081\n",
       "8   unknown  science  380.993168\n",
       "9        No    total  405.984202\n",
       "10      Yes    total  487.209640\n",
       "11  unknown    total  376.038200"
      ]
     },
     "execution_count": 210,
     "metadata": {},
     "output_type": "execute_result"
    }
   ],
   "source": [
    "df_pisa_internet_melt = pd.melt(df_pisa_internet, id_vars=['internet'])\n",
    "df_pisa_internet_melt"
   ]
  },
  {
   "cell_type": "code",
   "execution_count": 224,
   "metadata": {},
   "outputs": [
    {
     "data": {
      "text/plain": [
       "Text(0, 0.5, 'Average score values')"
      ]
     },
     "execution_count": 224,
     "metadata": {},
     "output_type": "execute_result"
    },
    {
     "data": {
      "image/png": "[encoded data removed]",
      "text/plain": [
       "<Figure size 432x288 with 1 Axes>"
      ]
     },
     "metadata": {
      "needs_background": "light"
     },
     "output_type": "display_data"
    }
   ],
   "source": [
    "sb.barplot(data=df_pisa_internet_melt, x=\"variable\",y=\"value\",hue=\"internet\",color=sb.color_palette()[0])\n",
    "plt.ylim(200,700)\n",
    "plt.xlabel('Math, Reading, Science, and total')\n",
    "plt.ylabel('Average score values')"
   ]
  },
  {
   "cell_type": "code",
   "execution_count": 151,
   "metadata": {},
   "outputs": [
    {
     "data": {
      "text/plain": [
       "<seaborn.axisgrid.FacetGrid at 0x1f3394b58c8>"
      ]
     },
     "execution_count": 151,
     "metadata": {},
     "output_type": "execute_result"
    },
    {
     "data": {
      "image/png": "[encoded data removed]",
      "text/plain": [
       "<Figure size 648x432 with 6 Axes>"
      ]
     },
     "metadata": {
      "needs_background": "light"
     },
     "output_type": "display_data"
    }
   ],
   "source": [
    "g = sb.FacetGrid(data = df_top_countries, col = 'mother_grade',col_wrap=3,sharey=True)\n",
    "g.map(plt.hist, \"total\",bins=math_bins)"
   ]
  },
  {
   "cell_type": "code",
   "execution_count": 152,
   "metadata": {},
   "outputs": [
    {
     "data": {
      "text/plain": [
       "<seaborn.axisgrid.FacetGrid at 0x1f2b67cf0c8>"
      ]
     },
     "execution_count": 152,
     "metadata": {},
     "output_type": "execute_result"
    },
    {
     "data": {
      "image/png": "[encoded data removed]",
      "text/plain": [
       "<Figure size 648x432 with 6 Axes>"
      ]
     },
     "metadata": {
      "needs_background": "light"
     },
     "output_type": "display_data"
    }
   ],
   "source": [
    "g = sb.FacetGrid(data = df_top_countries, col = 'father_grade',col_wrap=3,sharey=True)\n",
    "g.map(plt.hist, \"total\",bins=math_bins)"
   ]
  },
  {
   "cell_type": "code",
   "execution_count": null,
   "metadata": {},
   "outputs": [],
   "source": []
  },
  {
   "cell_type": "code",
   "execution_count": 153,
   "metadata": {},
   "outputs": [
    {
     "data": {
      "text/plain": [
       "<seaborn.axisgrid.FacetGrid at 0x1f3343d7348>"
      ]
     },
     "execution_count": 153,
     "metadata": {},
     "output_type": "execute_result"
    },
    {
     "data": {
      "image/png": "[encoded data removed]",
      "text/plain": [
       "<Figure size 648x432 with 5 Axes>"
      ]
     },
     "metadata": {
      "needs_background": "light"
     },
     "output_type": "display_data"
    }
   ],
   "source": [
    "g = sb.FacetGrid(data = df_top_countries, col = 'mother_job',col_wrap=3,sharey=True)\n",
    "g.map(plt.hist, \"total\",bins=math_bins)"
   ]
  },
  {
   "cell_type": "code",
   "execution_count": 154,
   "metadata": {},
   "outputs": [
    {
     "data": {
      "text/plain": [
       "<seaborn.axisgrid.FacetGrid at 0x1f338199f88>"
      ]
     },
     "execution_count": 154,
     "metadata": {},
     "output_type": "execute_result"
    },
    {
     "data": {
      "image/png": "[encoded data removed]",
      "text/plain": [
       "<Figure size 648x432 with 5 Axes>"
      ]
     },
     "metadata": {
      "needs_background": "light"
     },
     "output_type": "display_data"
    }
   ],
   "source": [
    "g = sb.FacetGrid(data = df_top_countries, col = 'father_job',col_wrap=3,sharey=True)\n",
    "g.map(plt.hist, \"total\",bins=math_bins)"
   ]
  },
  {
   "cell_type": "code",
   "execution_count": 155,
   "metadata": {},
   "outputs": [
    {
     "data": {
      "text/plain": [
       "<seaborn.axisgrid.FacetGrid at 0x1f3393f5f88>"
      ]
     },
     "execution_count": 155,
     "metadata": {},
     "output_type": "execute_result"
    },
    {
     "data": {
      "image/png": "[encoded data removed]",
      "text/plain": [
       "<Figure size 648x216 with 3 Axes>"
      ]
     },
     "metadata": {
      "needs_background": "light"
     },
     "output_type": "display_data"
    }
   ],
   "source": [
    "g = sb.FacetGrid(data = df_top_countries, col = 'internet',col_wrap=3,sharey=True)\n",
    "g.map(plt.hist, \"total\",bins=math_bins)"
   ]
  },
  {
   "cell_type": "code",
   "execution_count": 156,
   "metadata": {},
   "outputs": [
    {
     "data": {
      "text/plain": [
       "<seaborn.axisgrid.FacetGrid at 0x1f339586dc8>"
      ]
     },
     "execution_count": 156,
     "metadata": {},
     "output_type": "execute_result"
    },
    {
     "data": {
      "image/png": "[encoded data removed]",
      "text/plain": [
       "<Figure size 648x216 with 3 Axes>"
      ]
     },
     "metadata": {
      "needs_background": "light"
     },
     "output_type": "display_data"
    }
   ],
   "source": [
    "g = sb.FacetGrid(data = df_top_countries, col = 'textbook',col_wrap=3,sharey=True)\n",
    "g.map(plt.hist, \"total\",bins=math_bins)"
   ]
  },
  {
   "cell_type": "markdown",
   "metadata": {},
   "source": [
    "1. Data shows that most of the students have parents (mother / father) that finished 'ISCED level 3A' level\n",
    "2. same for full time working mom / dads\n",
    "3. most people have internet, and textbook\n"
   ]
  },
  {
   "cell_type": "markdown",
   "metadata": {},
   "source": [
    "### Talk about some of the relationships you observed in this part of the investigation. How did the feature(s) of interest vary with other features in the dataset?\n",
    "\n",
    "1. the internet had a huge impact on the scores compared with student who didn't have access to internet\n",
    "\n",
    "### Did you observe any interesting relationships between the other features (not the main feature(s) of interest)?\n",
    "\n",
    "1. Females in generals had better scores specially in reading\n",
    "2. Around 9 out of 10 top performer countries are in Far east, remaining 3 in Europe\n",
    "3. low performing countries range from south america"
   ]
  },
  {
   "cell_type": "markdown",
   "metadata": {},
   "source": [
    "## Multivariate Exploration\n",
    "\n",
    "> Create plots of three or more variables to investigate your data even\n",
    "further. Make sure that your investigations are justified, and follow from\n",
    "your work in the previous sections."
   ]
  },
  {
   "cell_type": "code",
   "execution_count": 238,
   "metadata": {},
   "outputs": [],
   "source": [
    "df_pisa_clean_copy=df_pisa_clean.copy()"
   ]
  },
  {
   "cell_type": "code",
   "execution_count": 240,
   "metadata": {},
   "outputs": [],
   "source": [
    "df_pisa_clean_copy.drop(columns=['total'], inplace=True)"
   ]
  },
  {
   "cell_type": "code",
   "execution_count": 242,
   "metadata": {},
   "outputs": [],
   "source": [
    "\n",
    "df_pisa_clean_melt = df_pisa_clean_copy.melt(id_vars=['country','student_id','gender','mother_at_home','father_at_home','mother_grade','father_grade',\n",
    "                           'father_job','mother_job','internet','textbook','age'],\n",
    "                   var_name='material',value_name='score')"
   ]
  },
  {
   "cell_type": "code",
   "execution_count": 243,
   "metadata": {},
   "outputs": [
    {
     "name": "stdout",
     "output_type": "stream",
     "text": [
      "<class 'pandas.core.frame.DataFrame'>\n",
      "RangeIndex: 1456470 entries, 0 to 1456469\n",
      "Data columns (total 14 columns):\n",
      " #   Column          Non-Null Count    Dtype   \n",
      "---  ------          --------------    -----   \n",
      " 0   country         1456470 non-null  object  \n",
      " 1   student_id      1456470 non-null  int64   \n",
      " 2   gender          1456470 non-null  category\n",
      " 3   mother_at_home  1456470 non-null  category\n",
      " 4   father_at_home  1456470 non-null  category\n",
      " 5   mother_grade    1456470 non-null  category\n",
      " 6   father_grade    1456470 non-null  category\n",
      " 7   father_job      1456470 non-null  category\n",
      " 8   mother_job      1456470 non-null  category\n",
      " 9   internet        1456470 non-null  category\n",
      " 10  textbook        1456470 non-null  category\n",
      " 11  age             1456470 non-null  float64 \n",
      " 12  material        1456470 non-null  object  \n",
      " 13  score           1456470 non-null  float64 \n",
      "dtypes: category(9), float64(2), int64(1), object(2)\n",
      "memory usage: 68.1+ MB\n"
     ]
    }
   ],
   "source": [
    "df_pisa_clean_melt.info()"
   ]
  },
  {
   "cell_type": "code",
   "execution_count": 330,
   "metadata": {},
   "outputs": [
    {
     "data": {
      "text/plain": [
       "<seaborn.axisgrid.PairGrid at 0x1f346541948>"
      ]
     },
     "execution_count": 330,
     "metadata": {},
     "output_type": "execute_result"
    },
    {
     "data": {
      "image/png": "[encoded data removed]",
      "text/plain": [
       "<Figure size 540x540 with 12 Axes>"
      ]
     },
     "metadata": {
      "needs_background": "light"
     },
     "output_type": "display_data"
    }
   ],
   "source": [
    "#source: https://stackoverflow.com/questions/30942577/seaborn-correlation-coefficient-on-pairgrid\n",
    "\n",
    "from scipy.stats import pearsonr\n",
    "\n",
    "def corrfunc(x,y, ax=None, **kws):\n",
    "    \"\"\"Plot the correlation coefficient in the top left hand corner of a plot.\"\"\"\n",
    "    r, _ = pearsonr(x, y)\n",
    "    ax = ax or plt.gca()\n",
    "    # Unicode for lowercase rho (ρ)\n",
    "    rho = '\\u03C1'\n",
    "    ax.annotate(f'{rho} = {r:.2f}', xy=(.1, .9), xycoords=ax.transAxes)\n",
    "    \n",
    "g = sb.pairplot(data = df_pisa_clean, vars=[\"math\", \"reading\", \"science\"]);\n",
    "g.map_lower(corrfunc)\n"
   ]
  },
  {
   "cell_type": "markdown",
   "metadata": {},
   "source": [
    "we see stronge correlation for all plots, highest between math and science."
   ]
  },
  {
   "cell_type": "markdown",
   "metadata": {},
   "source": [
    "### Talk about some of the relationships you observed in this part of the investigation. Were there features that strengthened each other in terms of looking at your feature(s) of interest?\n",
    "\n",
    "> The dataset used for analysis limited capabilities to make extensive relations for multivariant exploration. most of the details is already clear in the single / bivariant.\n",
    "the correlation diagram indicates stonge relation between scores in math, reading, science and score. highest between math and science.\n",
    "\n",
    "### Were there any interesting or surprising interactions between features?\n",
    "\n",
    "> most surpirsing is the impact on having internet on the students scores. "
   ]
  }
 ],
 "metadata": {
  "kernelspec": {
   "display_name": "Python 3",
   "language": "python",
   "name": "python3"
  },
  "language_info": {
   "codemirror_mode": {
    "name": "ipython",
    "version": 3
   },
   "file_extension": ".py",
   "mimetype": "text/x-python",
   "name": "python",
   "nbconvert_exporter": "python",
   "pygments_lexer": "ipython3",
   "version": "3.7.6"
  }
 },
 "nbformat": 4,
 "nbformat_minor": 2
}
